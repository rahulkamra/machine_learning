{
 "cells": [
  {
   "cell_type": "markdown",
   "id": "75d0fc76-7d19-450c-83d1-36b1f698ac79",
   "metadata": {},
   "source": [
    " [Cropdata](CropData.csv)\n"
   ]
  },
  {
   "attachments": {
    "5b7ffed0-509e-4cfb-90a3-13768f9b3f00.png": {
     "image/png": "[encoded data removed]"
    }
   },
   "cell_type": "markdown",
   "id": "4d64c0fa-0a3f-420e-a5d2-e9885418aa6e",
   "metadata": {},
   "source": [
    "![image.png](attachment:5b7ffed0-509e-4cfb-90a3-13768f9b3f00.png)\n",
    "\n",
    "orangle_yield = w11 * temp + w12  * rainfall + w13 * humidity + b1 <br>\n",
    "apple  _yield = w21 * temp + w22  * rainfall + w23 * humidity + b2\n"
   ]
  },
  {
   "cell_type": "code",
   "execution_count": 86,
   "id": "8da3e45a-f15f-4c4e-8a47-52d5e87526d2",
   "metadata": {},
   "outputs": [],
   "source": [
    "import numpy as np\n",
    "import  torch\n",
    "from numpy import genfromtxt"
   ]
  },
  {
   "cell_type": "code",
   "execution_count": 87,
   "id": "79e3afeb-ee35-4df0-b081-88f5f1b6c04d",
   "metadata": {
    "scrolled": true
   },
   "outputs": [
    {
     "data": {
      "text/plain": [
       "array([[ nan,  nan,  nan,  nan,  nan,  nan],\n",
       "       [ nan,  73.,  67.,  43.,  56.,  70.],\n",
       "       [ nan,  91.,  88.,  64.,  81., 101.],\n",
       "       [ nan,  87., 134.,  58., 119., 133.],\n",
       "       [ nan, 102.,  43.,  37.,  22.,  37.],\n",
       "       [ nan,  69.,  96.,  70., 103., 119.],\n",
       "       [ nan,  74.,  66.,  43.,  57.,  69.],\n",
       "       [ nan,  91.,  87.,  65.,  80., 102.],\n",
       "       [ nan,  88., 134.,  59., 118., 132.],\n",
       "       [ nan, 101.,  44.,  37.,  21.,  38.],\n",
       "       [ nan,  68.,  96.,  71., 104., 118.],\n",
       "       [ nan,  73.,  66.,  44.,  57.,  69.],\n",
       "       [ nan,  92.,  87.,  64.,  82., 100.],\n",
       "       [ nan,  87., 135.,  57., 118., 134.],\n",
       "       [ nan, 103.,  43.,  36.,  20.,  38.],\n",
       "       [ nan,  68.,  97.,  70., 102., 120.]], dtype=float32)"
      ]
     },
     "execution_count": 87,
     "metadata": {},
     "output_type": "execute_result"
    }
   ],
   "source": [
    "csvdata = genfromtxt('Cropdata.csv',delimiter = ',',dtype = 'float32')        \n",
    "csvdata"
   ]
  },
  {
   "cell_type": "code",
   "execution_count": 88,
   "id": "7c80ced4-1488-42e3-a63f-df40bf178edf",
   "metadata": {},
   "outputs": [
    {
     "data": {
      "text/plain": [
       "(array([[ 73.,  67.,  43.],\n",
       "        [ 91.,  88.,  64.],\n",
       "        [ 87., 134.,  58.],\n",
       "        [102.,  43.,  37.],\n",
       "        [ 69.,  96.,  70.]], dtype=float32),\n",
       " dtype('float32'))"
      ]
     },
     "execution_count": 88,
     "metadata": {},
     "output_type": "execute_result"
    }
   ],
   "source": [
    "inputs = csvdata[1:6,1:4]\n",
    "inputs , inputs.dtype\n",
    "\n"
   ]
  },
  {
   "cell_type": "code",
   "execution_count": 89,
   "id": "a1e6aa96-55ef-47c8-b077-eb8fe4d00a8a",
   "metadata": {},
   "outputs": [
    {
     "data": {
      "text/plain": [
       "(array([[ 56.,  70.],\n",
       "        [ 81., 101.],\n",
       "        [119., 133.],\n",
       "        [ 22.,  37.],\n",
       "        [103., 119.]], dtype=float32),\n",
       " dtype('float32'))"
      ]
     },
     "execution_count": 89,
     "metadata": {},
     "output_type": "execute_result"
    }
   ],
   "source": [
    "targets = csvdata[1:6,4:6]\n",
    "targets , targets.dtype\n"
   ]
  },
  {
   "cell_type": "code",
   "execution_count": 90,
   "id": "ce123575-3a7c-4a90-92f6-70d14c2322a9",
   "metadata": {},
   "outputs": [
    {
     "data": {
      "text/plain": [
       "tensor([[ 73.,  67.,  43.],\n",
       "        [ 91.,  88.,  64.],\n",
       "        [ 87., 134.,  58.],\n",
       "        [102.,  43.,  37.],\n",
       "        [ 69.,  96.,  70.]])"
      ]
     },
     "execution_count": 90,
     "metadata": {},
     "output_type": "execute_result"
    }
   ],
   "source": [
    "inputs = torch.from_numpy(inputs)\n",
    "inputs"
   ]
  },
  {
   "cell_type": "code",
   "execution_count": 91,
   "id": "1742a5c4-cc82-4743-b7d3-05c0655e2acf",
   "metadata": {},
   "outputs": [
    {
     "data": {
      "text/plain": [
       "tensor([[ 56.,  70.],\n",
       "        [ 81., 101.],\n",
       "        [119., 133.],\n",
       "        [ 22.,  37.],\n",
       "        [103., 119.]])"
      ]
     },
     "execution_count": 91,
     "metadata": {},
     "output_type": "execute_result"
    }
   ],
   "source": [
    "targets = torch.from_numpy(targets)\n",
    "targets"
   ]
  },
  {
   "cell_type": "markdown",
   "id": "b6c2ca77-d37d-4e2f-9806-50b81d767172",
   "metadata": {},
   "source": [
    "### So  the model will be input * weights + Bias \n",
    "\n",
    "### orangle_yield = w11 * temp + w12 * rainfall + w13 * humidity + b1\n",
    "### apple _yield = w21 * temp + w22 * rainfall + w23 * humidity + b2\n",
    "\n",
    "You can see b1 and b2 is an addition and weights are the multiplication \n"
   ]
  },
  {
   "cell_type": "code",
   "execution_count": 92,
   "id": "d8c6ae26-be74-4e35-a86d-ed502c18b4a1",
   "metadata": {},
   "outputs": [
    {
     "data": {
      "text/plain": [
       "tensor([[ 1.4423,  0.1183,  0.1217],\n",
       "        [ 0.1091, -0.1046, -0.0180]], requires_grad=True)"
      ]
     },
     "execution_count": 92,
     "metadata": {},
     "output_type": "execute_result"
    }
   ],
   "source": [
    "w = torch.randn(2,3,requires_grad = True)\n",
    "w"
   ]
  },
  {
   "cell_type": "code",
   "execution_count": 93,
   "id": "29fa1b1f-73d0-44b2-8243-4d2cb0e8ca4b",
   "metadata": {},
   "outputs": [
    {
     "data": {
      "text/plain": [
       "tensor([ 1.1344, -0.9202], requires_grad=True)"
      ]
     },
     "execution_count": 93,
     "metadata": {},
     "output_type": "execute_result"
    }
   ],
   "source": [
    "b = torch.randn(2,requires_grad = True)\n",
    "b"
   ]
  },
  {
   "cell_type": "markdown",
   "id": "bc98a8fb-b4d3-446e-a90f-a7b2672c4af9",
   "metadata": {},
   "source": [
    "<h1> Model"
   ]
  },
  {
   "cell_type": "markdown",
   "id": "28066f6f-814e-4a4e-93c5-c128582ae173",
   "metadata": {},
   "source": [
    "### We Need to define the model which is X * W(T) + b "
   ]
  },
  {
   "cell_type": "code",
   "execution_count": 94,
   "id": "b755ed3c-718d-4d8b-bbfe-33e8fa7730b0",
   "metadata": {},
   "outputs": [
    {
     "data": {
      "text/plain": [
       "' inputs @ w'"
      ]
     },
     "execution_count": 94,
     "metadata": {},
     "output_type": "execute_result"
    }
   ],
   "source": [
    "\"\"\"this will be errpr\"\"\"\n",
    "\"\"\" inputs @ w\"\"\""
   ]
  },
  {
   "cell_type": "code",
   "execution_count": 95,
   "id": "cdb734f2-8fcd-467c-9219-a2cadd718623",
   "metadata": {},
   "outputs": [],
   "source": [
    "def model(input):\n",
    "    return input @ w.t() + b\n"
   ]
  },
  {
   "cell_type": "markdown",
   "id": "75b1681d-8fc3-42de-88ac-0ab1953fa82d",
   "metadata": {},
   "source": [
    "This is the prediction of the model "
   ]
  },
  {
   "cell_type": "code",
   "execution_count": 96,
   "id": "ce2a36ca-1438-4453-a6cc-dc92008c4647",
   "metadata": {},
   "outputs": [
    {
     "data": {
      "text/plain": [
       "tensor([[119.5846,  -0.7293],\n",
       "        [150.5869,  -1.3371],\n",
       "        [149.5291,  -6.4753],\n",
       "        [157.8430,   5.0529],\n",
       "        [120.5322,  -4.6825]], grad_fn=<AddBackward0>)"
      ]
     },
     "execution_count": 96,
     "metadata": {},
     "output_type": "execute_result"
    }
   ],
   "source": [
    "prediction = model(inputs)\n",
    "prediction"
   ]
  },
  {
   "cell_type": "markdown",
   "id": "b8585c30-e5b2-4753-8757-4880e39f7c5d",
   "metadata": {},
   "source": [
    "### prediction[0][0] is the w11 * temp + w12 * rainfall + w13 * humidity + b1 for apples  \n",
    "### prediction[0][1] is the w11 * temp + w12 * rainfall + w13 * humidity + b1 for oranges "
   ]
  },
  {
   "cell_type": "code",
   "execution_count": 97,
   "id": "ed169a0b-1496-49eb-b8d6-c4d704eb629b",
   "metadata": {},
   "outputs": [
    {
     "data": {
      "text/plain": [
       "tensor([[ 56.,  70.],\n",
       "        [ 81., 101.],\n",
       "        [119., 133.],\n",
       "        [ 22.,  37.],\n",
       "        [103., 119.]])"
      ]
     },
     "execution_count": 97,
     "metadata": {},
     "output_type": "execute_result"
    }
   ],
   "source": [
    "targets"
   ]
  },
  {
   "cell_type": "markdown",
   "id": "ac44d341-741b-4b5b-84e2-aefa6a3a8200",
   "metadata": {},
   "source": [
    "targets are way off , because the weights are random , now we need to find the lost and change the weights in a way the loss is reduced."
   ]
  },
  {
   "cell_type": "markdown",
   "id": "14911b10-a790-4dfd-b732-fbc50122fb32",
   "metadata": {},
   "source": [
    "<h1> Loss Function"
   ]
  },
  {
   "cell_type": "code",
   "execution_count": 98,
   "id": "229709e8-9c6d-4a3f-9838-c34f6af5da6b",
   "metadata": {},
   "outputs": [
    {
     "data": {
      "text/plain": [
       "tensor(7982.4912, grad_fn=<DivBackward0>)"
      ]
     },
     "execution_count": 98,
     "metadata": {},
     "output_type": "execute_result"
    }
   ],
   "source": [
    "diff = prediction - targets\n",
    "diffsq = diff * diff #to remove the negative\n",
    "loss = torch.sum(diffsq) / diff.numel()\n",
    "loss"
   ]
  },
  {
   "cell_type": "code",
   "execution_count": 99,
   "id": "ebb280e7-26b1-49fa-a6ae-3e280d18ed16",
   "metadata": {},
   "outputs": [],
   "source": [
    "def mse(t1 , t2) :\n",
    "    diff = t1-t2\n",
    "    return torch.sum(diff*diff) / diff.numel()\n"
   ]
  },
  {
   "cell_type": "code",
   "execution_count": 100,
   "id": "e710a9f8-a026-4cba-a2f0-00e69d3a89eb",
   "metadata": {},
   "outputs": [
    {
     "data": {
      "text/plain": [
       "tensor(7982.4912, grad_fn=<DivBackward0>)"
      ]
     },
     "execution_count": 100,
     "metadata": {},
     "output_type": "execute_result"
    }
   ],
   "source": [
    "loss = mse(prediction,targets)\n",
    "loss"
   ]
  },
  {
   "cell_type": "code",
   "execution_count": 101,
   "id": "5ffe44eb-d39d-445f-a5cf-e858658a632c",
   "metadata": {},
   "outputs": [],
   "source": [
    "loss.backward() ### this will create the gradient"
   ]
  },
  {
   "cell_type": "code",
   "execution_count": 102,
   "id": "3bb1e525-6e6f-457b-b4e9-ed16129cf654",
   "metadata": {},
   "outputs": [
    {
     "name": "stdout",
     "output_type": "stream",
     "text": [
      "tensor([[ 1.4423,  0.1183,  0.1217],\n",
      "        [ 0.1091, -0.1046, -0.0180]], requires_grad=True)\n",
      "tensor([[ 5739.1650,  4399.8115,  3042.3669],\n",
      "        [-7680.5938, -9136.2939, -5504.0640]])\n"
     ]
    }
   ],
   "source": [
    "print(w)\n",
    "print(w.grad)"
   ]
  },
  {
   "cell_type": "code",
   "execution_count": 103,
   "id": "e09a9af9-5763-4a95-a66a-397858b08f4c",
   "metadata": {},
   "outputs": [
    {
     "name": "stdout",
     "output_type": "stream",
     "text": [
      "tensor([ 1.1344, -0.9202], requires_grad=True)\n",
      "tensor([ 63.4152, -93.6343])\n"
     ]
    }
   ],
   "source": [
    "print(b)\n",
    "print(b.grad)"
   ]
  },
  {
   "cell_type": "code",
   "execution_count": 104,
   "id": "1a4fa5c9-9c8c-4b56-a0eb-5f5b8ea2459c",
   "metadata": {},
   "outputs": [
    {
     "data": {
      "text/plain": [
       "tensor(7982.4912, grad_fn=<DivBackward0>)"
      ]
     },
     "execution_count": 104,
     "metadata": {},
     "output_type": "execute_result"
    }
   ],
   "source": [
    "loss = mse(prediction,targets)\n",
    "loss"
   ]
  },
  {
   "cell_type": "markdown",
   "id": "020d624c-cfcd-4cef-b804-e01abc56dad6",
   "metadata": {},
   "source": [
    "<h1> Gradient Descent</h1>"
   ]
  },
  {
   "cell_type": "code",
   "execution_count": 105,
   "id": "731ffc6e-1105-4572-bbd6-57788ec89afb",
   "metadata": {},
   "outputs": [
    {
     "data": {
      "text/plain": [
       "tensor([[ 5739.1650,  4399.8115,  3042.3669],\n",
       "        [-7680.5938, -9136.2939, -5504.0640]])"
      ]
     },
     "execution_count": 105,
     "metadata": {},
     "output_type": "execute_result"
    }
   ],
   "source": [
    "w.grad"
   ]
  },
  {
   "cell_type": "code",
   "execution_count": 106,
   "id": "2dd9f4c7-65cc-452a-9978-afecfcde83b2",
   "metadata": {},
   "outputs": [],
   "source": [
    "with torch.no_grad():\n",
    "    w -= w.grad * 0.00005\n",
    "    b -= b.grad * 0.00005\n",
    "    "
   ]
  },
  {
   "cell_type": "code",
   "execution_count": 107,
   "id": "dd6d482e-6425-40cb-b78a-c5b53d41b8e4",
   "metadata": {},
   "outputs": [
    {
     "name": "stdout",
     "output_type": "stream",
     "text": [
      "tensor([[ 5739.1650,  4399.8115,  3042.3669],\n",
      "        [-7680.5938, -9136.2939, -5504.0640]])\n",
      "tensor([ 63.4152, -93.6343])\n",
      "tensor([[0., 0., 0.],\n",
      "        [0., 0., 0.]])\n",
      "tensor([0., 0.])\n"
     ]
    }
   ],
   "source": [
    "print(w.grad)\n",
    "print(b.grad)\n",
    "w.grad.zero_()\n",
    "b.grad.zero_()\n",
    "print(w.grad)\n",
    "print(b.grad)"
   ]
  },
  {
   "cell_type": "code",
   "execution_count": 108,
   "id": "171dee16-6ba5-49b3-96be-963c0f3e6318",
   "metadata": {},
   "outputs": [
    {
     "data": {
      "text/plain": [
       "tensor(1472.1418, grad_fn=<DivBackward0>)"
      ]
     },
     "execution_count": 108,
     "metadata": {},
     "output_type": "execute_result"
    }
   ],
   "source": [
    "prediction = model(inputs)\n",
    "loss = mse(prediction,targets)\n",
    "loss"
   ]
  },
  {
   "cell_type": "code",
   "execution_count": null,
   "id": "127e22b4-310b-46d6-8cde-977d504ef596",
   "metadata": {},
   "outputs": [],
   "source": []
  },
  {
   "cell_type": "markdown",
   "id": "c41f55c7-addb-4fd2-aa0b-300cefdef880",
   "metadata": {},
   "source": [
    "<h1> Training"
   ]
  },
  {
   "cell_type": "code",
   "execution_count": 109,
   "id": "4d738a29-851c-44ec-9257-9183bd3b8896",
   "metadata": {},
   "outputs": [],
   "source": [
    "def training(epoc , inputs,targets , weights,bias,learning_rate) :\n",
    "    for i in range(epoc):\n",
    "        prediction = model(inputs)\n",
    "        loss = mse(prediction , targets)\n",
    "        loss.backward()\n",
    "        with torch.no_grad():\n",
    "            weights -= weights.grad * learning_rate\n",
    "            bias -= bias.grad * learning_rate\n",
    "            weights.grad.zero_()\n",
    "            bias.grad.zero_()\n",
    "            \n",
    "            "
   ]
  },
  {
   "cell_type": "code",
   "execution_count": 134,
   "id": "c818f7d6-0471-45ff-a6a4-f590f300100e",
   "metadata": {},
   "outputs": [],
   "source": [
    "training(100,inputs,targets,w,b,0.00001)"
   ]
  },
  {
   "cell_type": "code",
   "execution_count": 135,
   "id": "8e8898eb-5c84-47a6-a7f5-c4d3ea075c82",
   "metadata": {},
   "outputs": [
    {
     "data": {
      "text/plain": [
       "tensor(3.7791, grad_fn=<DivBackward0>)"
      ]
     },
     "execution_count": 135,
     "metadata": {},
     "output_type": "execute_result"
    }
   ],
   "source": [
    "prediction = model(inputs)\n",
    "loss = mse(prediction , targets)\n",
    "loss     "
   ]
  },
  {
   "cell_type": "code",
   "execution_count": 112,
   "id": "3056e9cf-a454-4d9c-adab-2837eab26099",
   "metadata": {},
   "outputs": [
    {
     "data": {
      "text/plain": [
       "tensor([[ 65.5658,  74.5030],\n",
       "        [ 84.0559,  99.9737],\n",
       "        [100.9861, 127.7971],\n",
       "        [ 68.4266,  61.9274],\n",
       "        [ 77.7304, 103.2076]], grad_fn=<AddBackward0>)"
      ]
     },
     "execution_count": 112,
     "metadata": {},
     "output_type": "execute_result"
    }
   ],
   "source": [
    "prediction"
   ]
  },
  {
   "cell_type": "code",
   "execution_count": null,
   "id": "f757faf8-9128-49af-a481-a9e0bb2b6a98",
   "metadata": {},
   "outputs": [],
   "source": []
  }
 ],
 "metadata": {
  "kernelspec": {
   "display_name": "Python 3 (ipykernel)",
   "language": "python",
   "name": "python3"
  },
  "language_info": {
   "codemirror_mode": {
    "name": "ipython",
    "version": 3
   },
   "file_extension": ".py",
   "mimetype": "text/x-python",
   "name": "python",
   "nbconvert_exporter": "python",
   "pygments_lexer": "ipython3",
   "version": "3.12.3"
  }
 },
 "nbformat": 4,
 "nbformat_minor": 5
}
