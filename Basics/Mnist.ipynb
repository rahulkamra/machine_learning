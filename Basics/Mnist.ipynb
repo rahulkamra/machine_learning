{
 "cells": [
  {
   "cell_type": "code",
   "execution_count": 99,
   "id": "14703244-8d77-42a9-9ece-e0aacc75ae80",
   "metadata": {},
   "outputs": [],
   "source": [
    "import torch.nn  as nn\n",
    "import numpy as np\n",
    "import torchvision\n",
    "from torchvision.datasets import MNIST\n",
    "import matplotlib.pyplot as plt\n",
    "import random\n",
    "from torchvision.transforms import transforms\n",
    "from torch.utils.data import random_split\n",
    "from torch.utils.data import TensorDataset,DataLoader\n",
    "import torch.nn.functional as F\n",
    "import torch\n"
   ]
  },
  {
   "cell_type": "code",
   "execution_count": 100,
   "id": "2b51ca3e-cb2d-4313-b0b1-f755ac18f979",
   "metadata": {},
   "outputs": [],
   "source": [
    "dataset = MNIST(root='data/',download=True)"
   ]
  },
  {
   "cell_type": "code",
   "execution_count": 101,
   "id": "39fd2706-54d7-4d83-a8a8-0edd6f790974",
   "metadata": {},
   "outputs": [
    {
     "data": {
      "text/plain": [
       "(Dataset MNIST\n",
       "     Number of datapoints: 60000\n",
       "     Root location: data/\n",
       "     Split: Train,\n",
       " 60000)"
      ]
     },
     "execution_count": 101,
     "metadata": {},
     "output_type": "execute_result"
    }
   ],
   "source": [
    "\n",
    "dataset,len(dataset)"
   ]
  },
  {
   "cell_type": "code",
   "execution_count": 102,
   "id": "1f43dbfb-1f47-4019-a47d-24bdead81f9e",
   "metadata": {},
   "outputs": [
    {
     "data": {
      "text/plain": [
       "10000"
      ]
     },
     "execution_count": 102,
     "metadata": {},
     "output_type": "execute_result"
    }
   ],
   "source": [
    "test_dataset = MNIST(root='data/',train=False)\n",
    "len(test_dataset)"
   ]
  },
  {
   "cell_type": "code",
   "execution_count": 103,
   "id": "c7d4bae2-2cc1-42ce-bca1-f3cb6474cfe8",
   "metadata": {},
   "outputs": [
    {
     "data": {
      "text/plain": [
       "(<PIL.Image.Image image mode=L size=28x28>, 5)"
      ]
     },
     "execution_count": 103,
     "metadata": {},
     "output_type": "execute_result"
    }
   ],
   "source": [
    "dataset[0]"
   ]
  },
  {
   "cell_type": "code",
   "execution_count": 104,
   "id": "f5b716ab-eef4-4229-b3d5-c88559513862",
   "metadata": {},
   "outputs": [
    {
     "data": {
      "image/jpeg": "[encoded data removed]",
      "image/png": "[encoded data removed]",
      "text/plain": [
       "<PIL.Image.Image image mode=L size=28x28>"
      ]
     },
     "execution_count": 104,
     "metadata": {},
     "output_type": "execute_result"
    }
   ],
   "source": [
    "image = dataset[0][0]\n",
    "image"
   ]
  },
  {
   "cell_type": "code",
   "execution_count": 105,
   "id": "686739a3-2bfe-4075-9880-6dd9ac68a5bb",
   "metadata": {},
   "outputs": [
    {
     "data": {
      "text/plain": [
       "5"
      ]
     },
     "execution_count": 105,
     "metadata": {},
     "output_type": "execute_result"
    }
   ],
   "source": [
    "label = dataset[0][1]\n",
    "label"
   ]
  },
  {
   "cell_type": "code",
   "execution_count": 106,
   "id": "ac9c0cab-c75a-45c3-bfdc-985476cb986b",
   "metadata": {},
   "outputs": [
    {
     "name": "stdout",
     "output_type": "stream",
     "text": [
      "5\n"
     ]
    },
    {
     "data": {
      "image/png": "[encoded data removed]",
      "text/plain": [
       "<Figure size 640x480 with 1 Axes>"
      ]
     },
     "metadata": {},
     "output_type": "display_data"
    }
   ],
   "source": [
    "plt.imshow(image,cmap='gray')\n",
    "print(label)"
   ]
  },
  {
   "cell_type": "code",
   "execution_count": 107,
   "id": "583227b1-6f84-4f70-9e3f-9d2f621f0f2a",
   "metadata": {},
   "outputs": [
    {
     "data": {
      "text/plain": [
       "60000"
      ]
     },
     "execution_count": 107,
     "metadata": {},
     "output_type": "execute_result"
    }
   ],
   "source": [
    "len(dataset)"
   ]
  },
  {
   "cell_type": "code",
   "execution_count": 108,
   "id": "57fd6c27-8f37-4bfc-8a7a-43afe1618b0a",
   "metadata": {},
   "outputs": [
    {
     "name": "stdout",
     "output_type": "stream",
     "text": [
      "3\n"
     ]
    },
    {
     "data": {
      "image/png": "[encoded data removed]",
      "text/plain": [
       "<Figure size 640x480 with 1 Axes>"
      ]
     },
     "metadata": {},
     "output_type": "display_data"
    }
   ],
   "source": [
    "element = dataset[random.randint(0,len(dataset))]\n",
    "plt.imshow(element[0],cmap='gray')\n",
    "print(element[1])"
   ]
  },
  {
   "cell_type": "code",
   "execution_count": 109,
   "id": "a0f4b067-3ecc-469e-bb7c-5b5d5095eac3",
   "metadata": {},
   "outputs": [
    {
     "data": {
      "text/plain": [
       "Dataset MNIST\n",
       "    Number of datapoints: 60000\n",
       "    Root location: data/\n",
       "    Split: Train\n",
       "    StandardTransform\n",
       "Transform: ToTensor()"
      ]
     },
     "execution_count": 109,
     "metadata": {},
     "output_type": "execute_result"
    }
   ],
   "source": [
    "dataset = MNIST(root='data/',download=True , transform= transforms.ToTensor())\n",
    "dataset"
   ]
  },
  {
   "cell_type": "code",
   "execution_count": 110,
   "id": "a393bb75-55bc-4b21-a357-2a92665c8011",
   "metadata": {},
   "outputs": [
    {
     "data": {
      "text/plain": [
       "(tensor([[[0.0000, 0.0000, 0.0000, 0.0000, 0.0000, 0.0000, 0.0000, 0.0000,\n",
       "           0.0000, 0.0000, 0.0000, 0.0000, 0.0000, 0.0000, 0.0000, 0.0000,\n",
       "           0.0000, 0.0000, 0.0000, 0.0000, 0.0000, 0.0000, 0.0000, 0.0000,\n",
       "           0.0000, 0.0000, 0.0000, 0.0000],\n",
       "          [0.0000, 0.0000, 0.0000, 0.0000, 0.0000, 0.0000, 0.0000, 0.0000,\n",
       "           0.0000, 0.0000, 0.0000, 0.0000, 0.0000, 0.0000, 0.0000, 0.0000,\n",
       "           0.0000, 0.0000, 0.0000, 0.0000, 0.0000, 0.0000, 0.0000, 0.0000,\n",
       "           0.0000, 0.0000, 0.0000, 0.0000],\n",
       "          [0.0000, 0.0000, 0.0000, 0.0000, 0.0000, 0.0000, 0.0000, 0.0000,\n",
       "           0.0000, 0.0000, 0.0000, 0.0000, 0.0000, 0.0000, 0.0000, 0.0000,\n",
       "           0.0000, 0.0000, 0.0000, 0.0000, 0.0000, 0.0000, 0.0000, 0.0000,\n",
       "           0.0000, 0.0000, 0.0000, 0.0000],\n",
       "          [0.0000, 0.0000, 0.0000, 0.0000, 0.0000, 0.0000, 0.0000, 0.0000,\n",
       "           0.0000, 0.0000, 0.0000, 0.0000, 0.0000, 0.0000, 0.0000, 0.0000,\n",
       "           0.0000, 0.0000, 0.0000, 0.0000, 0.0000, 0.0000, 0.0000, 0.0000,\n",
       "           0.0000, 0.0000, 0.0000, 0.0000],\n",
       "          [0.0000, 0.0000, 0.0000, 0.0000, 0.0000, 0.0000, 0.0000, 0.0000,\n",
       "           0.0000, 0.0000, 0.0000, 0.0000, 0.0000, 0.0000, 0.0000, 0.0000,\n",
       "           0.0000, 0.0000, 0.0000, 0.0000, 0.0000, 0.0000, 0.0000, 0.0000,\n",
       "           0.0000, 0.0000, 0.0000, 0.0000],\n",
       "          [0.0000, 0.0000, 0.0000, 0.0000, 0.0000, 0.0000, 0.0000, 0.0000,\n",
       "           0.0000, 0.0000, 0.0000, 0.0000, 0.0118, 0.0706, 0.0706, 0.0706,\n",
       "           0.4941, 0.5333, 0.6863, 0.1020, 0.6510, 1.0000, 0.9686, 0.4980,\n",
       "           0.0000, 0.0000, 0.0000, 0.0000],\n",
       "          [0.0000, 0.0000, 0.0000, 0.0000, 0.0000, 0.0000, 0.0000, 0.0000,\n",
       "           0.1176, 0.1412, 0.3686, 0.6039, 0.6667, 0.9922, 0.9922, 0.9922,\n",
       "           0.9922, 0.9922, 0.8824, 0.6745, 0.9922, 0.9490, 0.7647, 0.2510,\n",
       "           0.0000, 0.0000, 0.0000, 0.0000],\n",
       "          [0.0000, 0.0000, 0.0000, 0.0000, 0.0000, 0.0000, 0.0000, 0.1922,\n",
       "           0.9333, 0.9922, 0.9922, 0.9922, 0.9922, 0.9922, 0.9922, 0.9922,\n",
       "           0.9922, 0.9843, 0.3647, 0.3216, 0.3216, 0.2196, 0.1529, 0.0000,\n",
       "           0.0000, 0.0000, 0.0000, 0.0000],\n",
       "          [0.0000, 0.0000, 0.0000, 0.0000, 0.0000, 0.0000, 0.0000, 0.0706,\n",
       "           0.8588, 0.9922, 0.9922, 0.9922, 0.9922, 0.9922, 0.7765, 0.7137,\n",
       "           0.9686, 0.9451, 0.0000, 0.0000, 0.0000, 0.0000, 0.0000, 0.0000,\n",
       "           0.0000, 0.0000, 0.0000, 0.0000],\n",
       "          [0.0000, 0.0000, 0.0000, 0.0000, 0.0000, 0.0000, 0.0000, 0.0000,\n",
       "           0.3137, 0.6118, 0.4196, 0.9922, 0.9922, 0.8039, 0.0431, 0.0000,\n",
       "           0.1686, 0.6039, 0.0000, 0.0000, 0.0000, 0.0000, 0.0000, 0.0000,\n",
       "           0.0000, 0.0000, 0.0000, 0.0000],\n",
       "          [0.0000, 0.0000, 0.0000, 0.0000, 0.0000, 0.0000, 0.0000, 0.0000,\n",
       "           0.0000, 0.0549, 0.0039, 0.6039, 0.9922, 0.3529, 0.0000, 0.0000,\n",
       "           0.0000, 0.0000, 0.0000, 0.0000, 0.0000, 0.0000, 0.0000, 0.0000,\n",
       "           0.0000, 0.0000, 0.0000, 0.0000],\n",
       "          [0.0000, 0.0000, 0.0000, 0.0000, 0.0000, 0.0000, 0.0000, 0.0000,\n",
       "           0.0000, 0.0000, 0.0000, 0.5451, 0.9922, 0.7451, 0.0078, 0.0000,\n",
       "           0.0000, 0.0000, 0.0000, 0.0000, 0.0000, 0.0000, 0.0000, 0.0000,\n",
       "           0.0000, 0.0000, 0.0000, 0.0000],\n",
       "          [0.0000, 0.0000, 0.0000, 0.0000, 0.0000, 0.0000, 0.0000, 0.0000,\n",
       "           0.0000, 0.0000, 0.0000, 0.0431, 0.7451, 0.9922, 0.2745, 0.0000,\n",
       "           0.0000, 0.0000, 0.0000, 0.0000, 0.0000, 0.0000, 0.0000, 0.0000,\n",
       "           0.0000, 0.0000, 0.0000, 0.0000],\n",
       "          [0.0000, 0.0000, 0.0000, 0.0000, 0.0000, 0.0000, 0.0000, 0.0000,\n",
       "           0.0000, 0.0000, 0.0000, 0.0000, 0.1373, 0.9451, 0.8824, 0.6275,\n",
       "           0.4235, 0.0039, 0.0000, 0.0000, 0.0000, 0.0000, 0.0000, 0.0000,\n",
       "           0.0000, 0.0000, 0.0000, 0.0000],\n",
       "          [0.0000, 0.0000, 0.0000, 0.0000, 0.0000, 0.0000, 0.0000, 0.0000,\n",
       "           0.0000, 0.0000, 0.0000, 0.0000, 0.0000, 0.3176, 0.9412, 0.9922,\n",
       "           0.9922, 0.4667, 0.0980, 0.0000, 0.0000, 0.0000, 0.0000, 0.0000,\n",
       "           0.0000, 0.0000, 0.0000, 0.0000],\n",
       "          [0.0000, 0.0000, 0.0000, 0.0000, 0.0000, 0.0000, 0.0000, 0.0000,\n",
       "           0.0000, 0.0000, 0.0000, 0.0000, 0.0000, 0.0000, 0.1765, 0.7294,\n",
       "           0.9922, 0.9922, 0.5882, 0.1059, 0.0000, 0.0000, 0.0000, 0.0000,\n",
       "           0.0000, 0.0000, 0.0000, 0.0000],\n",
       "          [0.0000, 0.0000, 0.0000, 0.0000, 0.0000, 0.0000, 0.0000, 0.0000,\n",
       "           0.0000, 0.0000, 0.0000, 0.0000, 0.0000, 0.0000, 0.0000, 0.0627,\n",
       "           0.3647, 0.9882, 0.9922, 0.7333, 0.0000, 0.0000, 0.0000, 0.0000,\n",
       "           0.0000, 0.0000, 0.0000, 0.0000],\n",
       "          [0.0000, 0.0000, 0.0000, 0.0000, 0.0000, 0.0000, 0.0000, 0.0000,\n",
       "           0.0000, 0.0000, 0.0000, 0.0000, 0.0000, 0.0000, 0.0000, 0.0000,\n",
       "           0.0000, 0.9765, 0.9922, 0.9765, 0.2510, 0.0000, 0.0000, 0.0000,\n",
       "           0.0000, 0.0000, 0.0000, 0.0000],\n",
       "          [0.0000, 0.0000, 0.0000, 0.0000, 0.0000, 0.0000, 0.0000, 0.0000,\n",
       "           0.0000, 0.0000, 0.0000, 0.0000, 0.0000, 0.0000, 0.1804, 0.5098,\n",
       "           0.7176, 0.9922, 0.9922, 0.8118, 0.0078, 0.0000, 0.0000, 0.0000,\n",
       "           0.0000, 0.0000, 0.0000, 0.0000],\n",
       "          [0.0000, 0.0000, 0.0000, 0.0000, 0.0000, 0.0000, 0.0000, 0.0000,\n",
       "           0.0000, 0.0000, 0.0000, 0.0000, 0.1529, 0.5804, 0.8980, 0.9922,\n",
       "           0.9922, 0.9922, 0.9804, 0.7137, 0.0000, 0.0000, 0.0000, 0.0000,\n",
       "           0.0000, 0.0000, 0.0000, 0.0000],\n",
       "          [0.0000, 0.0000, 0.0000, 0.0000, 0.0000, 0.0000, 0.0000, 0.0000,\n",
       "           0.0000, 0.0000, 0.0941, 0.4471, 0.8667, 0.9922, 0.9922, 0.9922,\n",
       "           0.9922, 0.7882, 0.3059, 0.0000, 0.0000, 0.0000, 0.0000, 0.0000,\n",
       "           0.0000, 0.0000, 0.0000, 0.0000],\n",
       "          [0.0000, 0.0000, 0.0000, 0.0000, 0.0000, 0.0000, 0.0000, 0.0000,\n",
       "           0.0902, 0.2588, 0.8353, 0.9922, 0.9922, 0.9922, 0.9922, 0.7765,\n",
       "           0.3176, 0.0078, 0.0000, 0.0000, 0.0000, 0.0000, 0.0000, 0.0000,\n",
       "           0.0000, 0.0000, 0.0000, 0.0000],\n",
       "          [0.0000, 0.0000, 0.0000, 0.0000, 0.0000, 0.0000, 0.0706, 0.6706,\n",
       "           0.8588, 0.9922, 0.9922, 0.9922, 0.9922, 0.7647, 0.3137, 0.0353,\n",
       "           0.0000, 0.0000, 0.0000, 0.0000, 0.0000, 0.0000, 0.0000, 0.0000,\n",
       "           0.0000, 0.0000, 0.0000, 0.0000],\n",
       "          [0.0000, 0.0000, 0.0000, 0.0000, 0.2157, 0.6745, 0.8863, 0.9922,\n",
       "           0.9922, 0.9922, 0.9922, 0.9569, 0.5216, 0.0431, 0.0000, 0.0000,\n",
       "           0.0000, 0.0000, 0.0000, 0.0000, 0.0000, 0.0000, 0.0000, 0.0000,\n",
       "           0.0000, 0.0000, 0.0000, 0.0000],\n",
       "          [0.0000, 0.0000, 0.0000, 0.0000, 0.5333, 0.9922, 0.9922, 0.9922,\n",
       "           0.8314, 0.5294, 0.5176, 0.0627, 0.0000, 0.0000, 0.0000, 0.0000,\n",
       "           0.0000, 0.0000, 0.0000, 0.0000, 0.0000, 0.0000, 0.0000, 0.0000,\n",
       "           0.0000, 0.0000, 0.0000, 0.0000],\n",
       "          [0.0000, 0.0000, 0.0000, 0.0000, 0.0000, 0.0000, 0.0000, 0.0000,\n",
       "           0.0000, 0.0000, 0.0000, 0.0000, 0.0000, 0.0000, 0.0000, 0.0000,\n",
       "           0.0000, 0.0000, 0.0000, 0.0000, 0.0000, 0.0000, 0.0000, 0.0000,\n",
       "           0.0000, 0.0000, 0.0000, 0.0000],\n",
       "          [0.0000, 0.0000, 0.0000, 0.0000, 0.0000, 0.0000, 0.0000, 0.0000,\n",
       "           0.0000, 0.0000, 0.0000, 0.0000, 0.0000, 0.0000, 0.0000, 0.0000,\n",
       "           0.0000, 0.0000, 0.0000, 0.0000, 0.0000, 0.0000, 0.0000, 0.0000,\n",
       "           0.0000, 0.0000, 0.0000, 0.0000],\n",
       "          [0.0000, 0.0000, 0.0000, 0.0000, 0.0000, 0.0000, 0.0000, 0.0000,\n",
       "           0.0000, 0.0000, 0.0000, 0.0000, 0.0000, 0.0000, 0.0000, 0.0000,\n",
       "           0.0000, 0.0000, 0.0000, 0.0000, 0.0000, 0.0000, 0.0000, 0.0000,\n",
       "           0.0000, 0.0000, 0.0000, 0.0000]]]),\n",
       " 5)"
      ]
     },
     "execution_count": 110,
     "metadata": {},
     "output_type": "execute_result"
    }
   ],
   "source": [
    "image_tensor,label = dataset[0]\n",
    "image_tensor,label"
   ]
  },
  {
   "cell_type": "code",
   "execution_count": 111,
   "id": "a1bf0082-89de-4ed0-931b-6b928b254ef5",
   "metadata": {},
   "outputs": [
    {
     "data": {
      "text/plain": [
       "torch.Size([1, 28, 28])"
      ]
     },
     "execution_count": 111,
     "metadata": {},
     "output_type": "execute_result"
    }
   ],
   "source": [
    "image_tensor.shape"
   ]
  },
  {
   "cell_type": "code",
   "execution_count": 112,
   "id": "6f05a826-00b0-495c-8bd6-4203a7bb5857",
   "metadata": {},
   "outputs": [
    {
     "data": {
      "text/plain": [
       "tensor([[0.0039, 0.6039, 0.9922, 0.3529, 0.0000],\n",
       "        [0.0000, 0.5451, 0.9922, 0.7451, 0.0078],\n",
       "        [0.0000, 0.0431, 0.7451, 0.9922, 0.2745],\n",
       "        [0.0000, 0.0000, 0.1373, 0.9451, 0.8824],\n",
       "        [0.0000, 0.0000, 0.0000, 0.3176, 0.9412]])"
      ]
     },
     "execution_count": 112,
     "metadata": {},
     "output_type": "execute_result"
    }
   ],
   "source": [
    "image_tensor[0,10:15,10:15]"
   ]
  },
  {
   "cell_type": "code",
   "execution_count": 113,
   "id": "0c6f0f48-085f-48c2-9b63-e940d2f203b8",
   "metadata": {},
   "outputs": [
    {
     "data": {
      "text/plain": [
       "<matplotlib.image.AxesImage at 0x243b9cc6030>"
      ]
     },
     "execution_count": 113,
     "metadata": {},
     "output_type": "execute_result"
    },
    {
     "data": {
      "image/png": "[encoded data removed]",
      "text/plain": [
       "<Figure size 640x480 with 1 Axes>"
      ]
     },
     "metadata": {},
     "output_type": "display_data"
    }
   ],
   "source": [
    "plt.imshow(image_tensor[0,10:15,10:15],cmap='gray')"
   ]
  },
  {
   "cell_type": "code",
   "execution_count": 114,
   "id": "52d7a015-ae17-454d-b3f9-c3ebfe317595",
   "metadata": {},
   "outputs": [
    {
     "data": {
      "text/plain": [
       "(50000, 10000)"
      ]
     },
     "execution_count": 114,
     "metadata": {},
     "output_type": "execute_result"
    }
   ],
   "source": [
    "train_dataset,validation_dataset = random_split(dataset,[50000,10000])\n",
    "len(train_dataset),len(validation_dataset)"
   ]
  },
  {
   "cell_type": "code",
   "execution_count": 115,
   "id": "e1ea0303-4773-43db-8366-8f4b98a98b4b",
   "metadata": {},
   "outputs": [],
   "source": [
    "batch_size = 128"
   ]
  },
  {
   "cell_type": "code",
   "execution_count": 116,
   "id": "a3ad5d26-39c6-4ae1-9cec-c16f5ba61e7d",
   "metadata": {},
   "outputs": [
    {
     "data": {
      "text/plain": [
       "(<torch.utils.data.dataloader.DataLoader at 0x243b9c1c4d0>,\n",
       " <torch.utils.data.dataloader.DataLoader at 0x243b9c04c50>)"
      ]
     },
     "execution_count": 116,
     "metadata": {},
     "output_type": "execute_result"
    }
   ],
   "source": [
    "train_loader = DataLoader(train_dataset,batch_size = batch_size, shuffle = True)\n",
    "validation_loader = DataLoader(validation_dataset , batch_size= batch_size , shuffle= False)\n",
    "train_loader , validation_loader"
   ]
  },
  {
   "cell_type": "code",
   "execution_count": 117,
   "id": "e9078625-52c1-41a7-a70b-6a99a03bc0ef",
   "metadata": {},
   "outputs": [],
   "source": [
    "\n",
    "input_size = 1* 28 * 28\n",
    "num_classification = 10\n",
    "model = nn.Linear(input_size , num_classification)\n",
    "    \n",
    "        "
   ]
  },
  {
   "cell_type": "code",
   "execution_count": 118,
   "id": "b16c8e29-3b51-4e60-ac9b-59c72a68b4e8",
   "metadata": {},
   "outputs": [
    {
     "data": {
      "text/plain": [
       "(torch.Size([10, 784]), torch.Size([10]))"
      ]
     },
     "execution_count": 118,
     "metadata": {},
     "output_type": "execute_result"
    }
   ],
   "source": [
    "model.weight.shape,model.bias.shape\n"
   ]
  },
  {
   "cell_type": "code",
   "execution_count": 119,
   "id": "93412fe1-0abe-41ea-8eb4-142f9d4b615c",
   "metadata": {},
   "outputs": [
    {
     "data": {
      "text/plain": [
       "'this will throw an error'"
      ]
     },
     "execution_count": 119,
     "metadata": {},
     "output_type": "execute_result"
    }
   ],
   "source": [
    "\"\"\"for images,labels in train_loader :\n",
    "    print(images.shape)\n",
    "    print(labels)\n",
    "    model(images)\"\"\"\n",
    "\"\"\"this will throw an error\"\"\"\n",
    "    "
   ]
  },
  {
   "cell_type": "code",
   "execution_count": 120,
   "id": "b1f596d7-6be6-4789-b36a-fe0f5b97f159",
   "metadata": {},
   "outputs": [
    {
     "name": "stdout",
     "output_type": "stream",
     "text": [
      "torch.Size([128, 784])\n",
      "torch.Size([128, 784])\n",
      "torch.Size([128, 784])\n",
      "torch.Size([128, 784])\n",
      "torch.Size([128, 784])\n",
      "torch.Size([128, 784])\n",
      "torch.Size([128, 784])\n",
      "torch.Size([128, 784])\n",
      "torch.Size([128, 784])\n",
      "torch.Size([128, 784])\n",
      "torch.Size([128, 784])\n",
      "torch.Size([128, 784])\n",
      "torch.Size([128, 784])\n",
      "torch.Size([128, 784])\n",
      "torch.Size([128, 784])\n",
      "torch.Size([128, 784])\n",
      "torch.Size([128, 784])\n",
      "torch.Size([128, 784])\n",
      "torch.Size([128, 784])\n",
      "torch.Size([128, 784])\n",
      "torch.Size([128, 784])\n",
      "torch.Size([128, 784])\n",
      "torch.Size([128, 784])\n",
      "torch.Size([128, 784])\n",
      "torch.Size([128, 784])\n",
      "torch.Size([128, 784])\n",
      "torch.Size([128, 784])\n",
      "torch.Size([128, 784])\n",
      "torch.Size([128, 784])\n",
      "torch.Size([128, 784])\n",
      "torch.Size([128, 784])\n",
      "torch.Size([128, 784])\n",
      "torch.Size([128, 784])\n",
      "torch.Size([128, 784])\n",
      "torch.Size([128, 784])\n",
      "torch.Size([128, 784])\n",
      "torch.Size([128, 784])\n",
      "torch.Size([128, 784])\n",
      "torch.Size([128, 784])\n",
      "torch.Size([128, 784])\n",
      "torch.Size([128, 784])\n",
      "torch.Size([128, 784])\n",
      "torch.Size([128, 784])\n",
      "torch.Size([128, 784])\n",
      "torch.Size([128, 784])\n",
      "torch.Size([128, 784])\n",
      "torch.Size([128, 784])\n",
      "torch.Size([128, 784])\n",
      "torch.Size([128, 784])\n",
      "torch.Size([128, 784])\n",
      "torch.Size([128, 784])\n",
      "torch.Size([128, 784])\n",
      "torch.Size([128, 784])\n",
      "torch.Size([128, 784])\n",
      "torch.Size([128, 784])\n",
      "torch.Size([128, 784])\n",
      "torch.Size([128, 784])\n",
      "torch.Size([128, 784])\n",
      "torch.Size([128, 784])\n",
      "torch.Size([128, 784])\n",
      "torch.Size([128, 784])\n",
      "torch.Size([128, 784])\n",
      "torch.Size([128, 784])\n",
      "torch.Size([128, 784])\n",
      "torch.Size([128, 784])\n",
      "torch.Size([128, 784])\n",
      "torch.Size([128, 784])\n",
      "torch.Size([128, 784])\n",
      "torch.Size([128, 784])\n",
      "torch.Size([128, 784])\n",
      "torch.Size([128, 784])\n",
      "torch.Size([128, 784])\n",
      "torch.Size([128, 784])\n",
      "torch.Size([128, 784])\n",
      "torch.Size([128, 784])\n",
      "torch.Size([128, 784])\n",
      "torch.Size([128, 784])\n",
      "torch.Size([128, 784])\n",
      "torch.Size([128, 784])\n",
      "torch.Size([128, 784])\n",
      "torch.Size([128, 784])\n",
      "torch.Size([128, 784])\n",
      "torch.Size([128, 784])\n",
      "torch.Size([128, 784])\n",
      "torch.Size([128, 784])\n",
      "torch.Size([128, 784])\n",
      "torch.Size([128, 784])\n",
      "torch.Size([128, 784])\n",
      "torch.Size([128, 784])\n",
      "torch.Size([128, 784])\n",
      "torch.Size([128, 784])\n",
      "torch.Size([128, 784])\n",
      "torch.Size([128, 784])\n",
      "torch.Size([128, 784])\n",
      "torch.Size([128, 784])\n",
      "torch.Size([128, 784])\n",
      "torch.Size([128, 784])\n",
      "torch.Size([128, 784])\n",
      "torch.Size([128, 784])\n",
      "torch.Size([128, 784])\n",
      "torch.Size([128, 784])\n",
      "torch.Size([128, 784])\n",
      "torch.Size([128, 784])\n",
      "torch.Size([128, 784])\n",
      "torch.Size([128, 784])\n",
      "torch.Size([128, 784])\n",
      "torch.Size([128, 784])\n",
      "torch.Size([128, 784])\n",
      "torch.Size([128, 784])\n",
      "torch.Size([128, 784])\n",
      "torch.Size([128, 784])\n",
      "torch.Size([128, 784])\n",
      "torch.Size([128, 784])\n",
      "torch.Size([128, 784])\n",
      "torch.Size([128, 784])\n",
      "torch.Size([128, 784])\n",
      "torch.Size([128, 784])\n",
      "torch.Size([128, 784])\n",
      "torch.Size([128, 784])\n",
      "torch.Size([128, 784])\n",
      "torch.Size([128, 784])\n",
      "torch.Size([128, 784])\n",
      "torch.Size([128, 784])\n",
      "torch.Size([128, 784])\n",
      "torch.Size([128, 784])\n",
      "torch.Size([128, 784])\n",
      "torch.Size([128, 784])\n",
      "torch.Size([128, 784])\n",
      "torch.Size([128, 784])\n",
      "torch.Size([128, 784])\n",
      "torch.Size([128, 784])\n",
      "torch.Size([128, 784])\n",
      "torch.Size([128, 784])\n",
      "torch.Size([128, 784])\n",
      "torch.Size([128, 784])\n",
      "torch.Size([128, 784])\n",
      "torch.Size([128, 784])\n",
      "torch.Size([128, 784])\n",
      "torch.Size([128, 784])\n",
      "torch.Size([128, 784])\n",
      "torch.Size([128, 784])\n",
      "torch.Size([128, 784])\n",
      "torch.Size([128, 784])\n",
      "torch.Size([128, 784])\n",
      "torch.Size([128, 784])\n",
      "torch.Size([128, 784])\n",
      "torch.Size([128, 784])\n",
      "torch.Size([128, 784])\n",
      "torch.Size([128, 784])\n",
      "torch.Size([128, 784])\n",
      "torch.Size([128, 784])\n",
      "torch.Size([128, 784])\n",
      "torch.Size([128, 784])\n",
      "torch.Size([128, 784])\n",
      "torch.Size([128, 784])\n",
      "torch.Size([128, 784])\n",
      "torch.Size([128, 784])\n",
      "torch.Size([128, 784])\n",
      "torch.Size([128, 784])\n",
      "torch.Size([128, 784])\n",
      "torch.Size([128, 784])\n",
      "torch.Size([128, 784])\n",
      "torch.Size([128, 784])\n",
      "torch.Size([128, 784])\n",
      "torch.Size([128, 784])\n",
      "torch.Size([128, 784])\n",
      "torch.Size([128, 784])\n",
      "torch.Size([128, 784])\n",
      "torch.Size([128, 784])\n",
      "torch.Size([128, 784])\n",
      "torch.Size([128, 784])\n",
      "torch.Size([128, 784])\n",
      "torch.Size([128, 784])\n",
      "torch.Size([128, 784])\n",
      "torch.Size([128, 784])\n",
      "torch.Size([128, 784])\n",
      "torch.Size([128, 784])\n",
      "torch.Size([128, 784])\n",
      "torch.Size([128, 784])\n",
      "torch.Size([128, 784])\n",
      "torch.Size([128, 784])\n",
      "torch.Size([128, 784])\n",
      "torch.Size([128, 784])\n",
      "torch.Size([128, 784])\n",
      "torch.Size([128, 784])\n",
      "torch.Size([128, 784])\n",
      "torch.Size([128, 784])\n",
      "torch.Size([128, 784])\n",
      "torch.Size([128, 784])\n",
      "torch.Size([128, 784])\n",
      "torch.Size([128, 784])\n",
      "torch.Size([128, 784])\n",
      "torch.Size([128, 784])\n",
      "torch.Size([128, 784])\n",
      "torch.Size([128, 784])\n",
      "torch.Size([128, 784])\n",
      "torch.Size([128, 784])\n",
      "torch.Size([128, 784])\n",
      "torch.Size([128, 784])\n",
      "torch.Size([128, 784])\n",
      "torch.Size([128, 784])\n",
      "torch.Size([128, 784])\n",
      "torch.Size([128, 784])\n",
      "torch.Size([128, 784])\n",
      "torch.Size([128, 784])\n",
      "torch.Size([128, 784])\n",
      "torch.Size([128, 784])\n",
      "torch.Size([128, 784])\n",
      "torch.Size([128, 784])\n",
      "torch.Size([128, 784])\n",
      "torch.Size([128, 784])\n",
      "torch.Size([128, 784])\n",
      "torch.Size([128, 784])\n",
      "torch.Size([128, 784])\n",
      "torch.Size([128, 784])\n",
      "torch.Size([128, 784])\n",
      "torch.Size([128, 784])\n",
      "torch.Size([128, 784])\n",
      "torch.Size([128, 784])\n",
      "torch.Size([128, 784])\n",
      "torch.Size([128, 784])\n",
      "torch.Size([128, 784])\n",
      "torch.Size([128, 784])\n",
      "torch.Size([128, 784])\n",
      "torch.Size([128, 784])\n",
      "torch.Size([128, 784])\n",
      "torch.Size([128, 784])\n",
      "torch.Size([128, 784])\n",
      "torch.Size([128, 784])\n",
      "torch.Size([128, 784])\n",
      "torch.Size([128, 784])\n",
      "torch.Size([128, 784])\n",
      "torch.Size([128, 784])\n",
      "torch.Size([128, 784])\n",
      "torch.Size([128, 784])\n",
      "torch.Size([128, 784])\n",
      "torch.Size([128, 784])\n",
      "torch.Size([128, 784])\n",
      "torch.Size([128, 784])\n",
      "torch.Size([128, 784])\n",
      "torch.Size([128, 784])\n",
      "torch.Size([128, 784])\n",
      "torch.Size([128, 784])\n",
      "torch.Size([128, 784])\n",
      "torch.Size([128, 784])\n",
      "torch.Size([128, 784])\n",
      "torch.Size([128, 784])\n",
      "torch.Size([128, 784])\n",
      "torch.Size([128, 784])\n",
      "torch.Size([128, 784])\n",
      "torch.Size([128, 784])\n",
      "torch.Size([128, 784])\n",
      "torch.Size([128, 784])\n",
      "torch.Size([128, 784])\n",
      "torch.Size([128, 784])\n",
      "torch.Size([128, 784])\n",
      "torch.Size([128, 784])\n",
      "torch.Size([128, 784])\n",
      "torch.Size([128, 784])\n",
      "torch.Size([128, 784])\n",
      "torch.Size([128, 784])\n",
      "torch.Size([128, 784])\n",
      "torch.Size([128, 784])\n",
      "torch.Size([128, 784])\n",
      "torch.Size([128, 784])\n",
      "torch.Size([128, 784])\n",
      "torch.Size([128, 784])\n",
      "torch.Size([128, 784])\n",
      "torch.Size([128, 784])\n",
      "torch.Size([128, 784])\n",
      "torch.Size([128, 784])\n",
      "torch.Size([128, 784])\n",
      "torch.Size([128, 784])\n",
      "torch.Size([128, 784])\n",
      "torch.Size([128, 784])\n",
      "torch.Size([128, 784])\n",
      "torch.Size([128, 784])\n",
      "torch.Size([128, 784])\n",
      "torch.Size([128, 784])\n",
      "torch.Size([128, 784])\n",
      "torch.Size([128, 784])\n",
      "torch.Size([128, 784])\n",
      "torch.Size([128, 784])\n",
      "torch.Size([128, 784])\n",
      "torch.Size([128, 784])\n",
      "torch.Size([128, 784])\n",
      "torch.Size([128, 784])\n",
      "torch.Size([128, 784])\n",
      "torch.Size([128, 784])\n",
      "torch.Size([128, 784])\n",
      "torch.Size([128, 784])\n",
      "torch.Size([128, 784])\n",
      "torch.Size([128, 784])\n",
      "torch.Size([128, 784])\n",
      "torch.Size([128, 784])\n",
      "torch.Size([128, 784])\n",
      "torch.Size([128, 784])\n",
      "torch.Size([128, 784])\n",
      "torch.Size([128, 784])\n",
      "torch.Size([128, 784])\n",
      "torch.Size([128, 784])\n",
      "torch.Size([128, 784])\n",
      "torch.Size([128, 784])\n",
      "torch.Size([128, 784])\n",
      "torch.Size([128, 784])\n",
      "torch.Size([128, 784])\n",
      "torch.Size([128, 784])\n",
      "torch.Size([128, 784])\n",
      "torch.Size([128, 784])\n",
      "torch.Size([128, 784])\n",
      "torch.Size([128, 784])\n",
      "torch.Size([128, 784])\n",
      "torch.Size([128, 784])\n",
      "torch.Size([128, 784])\n",
      "torch.Size([128, 784])\n",
      "torch.Size([128, 784])\n",
      "torch.Size([128, 784])\n",
      "torch.Size([128, 784])\n",
      "torch.Size([128, 784])\n",
      "torch.Size([128, 784])\n",
      "torch.Size([128, 784])\n",
      "torch.Size([128, 784])\n",
      "torch.Size([128, 784])\n",
      "torch.Size([128, 784])\n",
      "torch.Size([128, 784])\n",
      "torch.Size([128, 784])\n",
      "torch.Size([128, 784])\n",
      "torch.Size([128, 784])\n",
      "torch.Size([128, 784])\n",
      "torch.Size([128, 784])\n",
      "torch.Size([128, 784])\n",
      "torch.Size([128, 784])\n",
      "torch.Size([128, 784])\n",
      "torch.Size([128, 784])\n",
      "torch.Size([128, 784])\n",
      "torch.Size([128, 784])\n",
      "torch.Size([128, 784])\n",
      "torch.Size([128, 784])\n",
      "torch.Size([128, 784])\n",
      "torch.Size([128, 784])\n",
      "torch.Size([128, 784])\n",
      "torch.Size([128, 784])\n",
      "torch.Size([128, 784])\n",
      "torch.Size([128, 784])\n",
      "torch.Size([128, 784])\n",
      "torch.Size([128, 784])\n",
      "torch.Size([128, 784])\n",
      "torch.Size([128, 784])\n",
      "torch.Size([128, 784])\n",
      "torch.Size([128, 784])\n",
      "torch.Size([128, 784])\n",
      "torch.Size([128, 784])\n",
      "torch.Size([128, 784])\n",
      "torch.Size([128, 784])\n",
      "torch.Size([128, 784])\n",
      "torch.Size([128, 784])\n",
      "torch.Size([128, 784])\n",
      "torch.Size([128, 784])\n",
      "torch.Size([128, 784])\n",
      "torch.Size([128, 784])\n",
      "torch.Size([128, 784])\n",
      "torch.Size([128, 784])\n",
      "torch.Size([128, 784])\n",
      "torch.Size([128, 784])\n",
      "torch.Size([128, 784])\n",
      "torch.Size([128, 784])\n",
      "torch.Size([128, 784])\n",
      "torch.Size([128, 784])\n",
      "torch.Size([128, 784])\n",
      "torch.Size([128, 784])\n",
      "torch.Size([128, 784])\n",
      "torch.Size([128, 784])\n",
      "torch.Size([128, 784])\n",
      "torch.Size([128, 784])\n",
      "torch.Size([128, 784])\n",
      "torch.Size([128, 784])\n",
      "torch.Size([128, 784])\n",
      "torch.Size([128, 784])\n",
      "torch.Size([128, 784])\n",
      "torch.Size([128, 784])\n",
      "torch.Size([128, 784])\n",
      "torch.Size([128, 784])\n",
      "torch.Size([128, 784])\n",
      "torch.Size([128, 784])\n",
      "torch.Size([128, 784])\n",
      "torch.Size([128, 784])\n",
      "torch.Size([128, 784])\n",
      "torch.Size([128, 784])\n",
      "torch.Size([128, 784])\n",
      "torch.Size([128, 784])\n",
      "torch.Size([80, 784])\n"
     ]
    }
   ],
   "source": [
    "for images,labels in train_loader :\n",
    "    images = images.reshape(images.shape[0],1*28*28)\n",
    "    print(images.shape)"
   ]
  },
  {
   "cell_type": "code",
   "execution_count": 121,
   "id": "62027763-8955-4276-bd3b-e258d65942c3",
   "metadata": {},
   "outputs": [
    {
     "name": "stdout",
     "output_type": "stream",
     "text": [
      "torch.Size([128, 784])\n",
      "torch.Size([128, 784])\n",
      "torch.Size([128, 784])\n",
      "torch.Size([128, 784])\n",
      "torch.Size([128, 784])\n",
      "torch.Size([128, 784])\n",
      "torch.Size([128, 784])\n",
      "torch.Size([128, 784])\n",
      "torch.Size([128, 784])\n",
      "torch.Size([128, 784])\n",
      "torch.Size([128, 784])\n",
      "torch.Size([128, 784])\n",
      "torch.Size([128, 784])\n",
      "torch.Size([128, 784])\n",
      "torch.Size([128, 784])\n",
      "torch.Size([128, 784])\n",
      "torch.Size([128, 784])\n",
      "torch.Size([128, 784])\n",
      "torch.Size([128, 784])\n",
      "torch.Size([128, 784])\n",
      "torch.Size([128, 784])\n",
      "torch.Size([128, 784])\n",
      "torch.Size([128, 784])\n",
      "torch.Size([128, 784])\n",
      "torch.Size([128, 784])\n",
      "torch.Size([128, 784])\n",
      "torch.Size([128, 784])\n",
      "torch.Size([128, 784])\n",
      "torch.Size([128, 784])\n",
      "torch.Size([128, 784])\n",
      "torch.Size([128, 784])\n",
      "torch.Size([128, 784])\n",
      "torch.Size([128, 784])\n",
      "torch.Size([128, 784])\n",
      "torch.Size([128, 784])\n",
      "torch.Size([128, 784])\n",
      "torch.Size([128, 784])\n",
      "torch.Size([128, 784])\n",
      "torch.Size([128, 784])\n",
      "torch.Size([128, 784])\n",
      "torch.Size([128, 784])\n",
      "torch.Size([128, 784])\n",
      "torch.Size([128, 784])\n",
      "torch.Size([128, 784])\n",
      "torch.Size([128, 784])\n",
      "torch.Size([128, 784])\n",
      "torch.Size([128, 784])\n",
      "torch.Size([128, 784])\n",
      "torch.Size([128, 784])\n",
      "torch.Size([128, 784])\n",
      "torch.Size([128, 784])\n",
      "torch.Size([128, 784])\n",
      "torch.Size([128, 784])\n",
      "torch.Size([128, 784])\n",
      "torch.Size([128, 784])\n",
      "torch.Size([128, 784])\n",
      "torch.Size([128, 784])\n",
      "torch.Size([128, 784])\n",
      "torch.Size([128, 784])\n",
      "torch.Size([128, 784])\n",
      "torch.Size([128, 784])\n",
      "torch.Size([128, 784])\n",
      "torch.Size([128, 784])\n",
      "torch.Size([128, 784])\n",
      "torch.Size([128, 784])\n",
      "torch.Size([128, 784])\n",
      "torch.Size([128, 784])\n",
      "torch.Size([128, 784])\n",
      "torch.Size([128, 784])\n",
      "torch.Size([128, 784])\n",
      "torch.Size([128, 784])\n",
      "torch.Size([128, 784])\n",
      "torch.Size([128, 784])\n",
      "torch.Size([128, 784])\n",
      "torch.Size([128, 784])\n",
      "torch.Size([128, 784])\n",
      "torch.Size([128, 784])\n",
      "torch.Size([128, 784])\n",
      "torch.Size([128, 784])\n",
      "torch.Size([128, 784])\n",
      "torch.Size([128, 784])\n",
      "torch.Size([128, 784])\n",
      "torch.Size([128, 784])\n",
      "torch.Size([128, 784])\n",
      "torch.Size([128, 784])\n",
      "torch.Size([128, 784])\n",
      "torch.Size([128, 784])\n",
      "torch.Size([128, 784])\n",
      "torch.Size([128, 784])\n",
      "torch.Size([128, 784])\n",
      "torch.Size([128, 784])\n",
      "torch.Size([128, 784])\n",
      "torch.Size([128, 784])\n",
      "torch.Size([128, 784])\n",
      "torch.Size([128, 784])\n",
      "torch.Size([128, 784])\n",
      "torch.Size([128, 784])\n",
      "torch.Size([128, 784])\n",
      "torch.Size([128, 784])\n",
      "torch.Size([128, 784])\n",
      "torch.Size([128, 784])\n",
      "torch.Size([128, 784])\n",
      "torch.Size([128, 784])\n",
      "torch.Size([128, 784])\n",
      "torch.Size([128, 784])\n",
      "torch.Size([128, 784])\n",
      "torch.Size([128, 784])\n",
      "torch.Size([128, 784])\n",
      "torch.Size([128, 784])\n",
      "torch.Size([128, 784])\n",
      "torch.Size([128, 784])\n",
      "torch.Size([128, 784])\n",
      "torch.Size([128, 784])\n",
      "torch.Size([128, 784])\n",
      "torch.Size([128, 784])\n",
      "torch.Size([128, 784])\n",
      "torch.Size([128, 784])\n",
      "torch.Size([128, 784])\n",
      "torch.Size([128, 784])\n",
      "torch.Size([128, 784])\n",
      "torch.Size([128, 784])\n",
      "torch.Size([128, 784])\n",
      "torch.Size([128, 784])\n",
      "torch.Size([128, 784])\n",
      "torch.Size([128, 784])\n",
      "torch.Size([128, 784])\n",
      "torch.Size([128, 784])\n",
      "torch.Size([128, 784])\n",
      "torch.Size([128, 784])\n",
      "torch.Size([128, 784])\n",
      "torch.Size([128, 784])\n",
      "torch.Size([128, 784])\n",
      "torch.Size([128, 784])\n",
      "torch.Size([128, 784])\n",
      "torch.Size([128, 784])\n",
      "torch.Size([128, 784])\n",
      "torch.Size([128, 784])\n",
      "torch.Size([128, 784])\n",
      "torch.Size([128, 784])\n",
      "torch.Size([128, 784])\n",
      "torch.Size([128, 784])\n",
      "torch.Size([128, 784])\n",
      "torch.Size([128, 784])\n",
      "torch.Size([128, 784])\n",
      "torch.Size([128, 784])\n",
      "torch.Size([128, 784])\n",
      "torch.Size([128, 784])\n",
      "torch.Size([128, 784])\n",
      "torch.Size([128, 784])\n",
      "torch.Size([128, 784])\n",
      "torch.Size([128, 784])\n",
      "torch.Size([128, 784])\n",
      "torch.Size([128, 784])\n",
      "torch.Size([128, 784])\n",
      "torch.Size([128, 784])\n",
      "torch.Size([128, 784])\n",
      "torch.Size([128, 784])\n",
      "torch.Size([128, 784])\n",
      "torch.Size([128, 784])\n",
      "torch.Size([128, 784])\n",
      "torch.Size([128, 784])\n",
      "torch.Size([128, 784])\n",
      "torch.Size([128, 784])\n",
      "torch.Size([128, 784])\n",
      "torch.Size([128, 784])\n",
      "torch.Size([128, 784])\n",
      "torch.Size([128, 784])\n",
      "torch.Size([128, 784])\n",
      "torch.Size([128, 784])\n",
      "torch.Size([128, 784])\n",
      "torch.Size([128, 784])\n",
      "torch.Size([128, 784])\n",
      "torch.Size([128, 784])\n",
      "torch.Size([128, 784])\n",
      "torch.Size([128, 784])\n",
      "torch.Size([128, 784])\n",
      "torch.Size([128, 784])\n",
      "torch.Size([128, 784])\n",
      "torch.Size([128, 784])\n",
      "torch.Size([128, 784])\n",
      "torch.Size([128, 784])\n",
      "torch.Size([128, 784])\n",
      "torch.Size([128, 784])\n",
      "torch.Size([128, 784])\n",
      "torch.Size([128, 784])\n",
      "torch.Size([128, 784])\n",
      "torch.Size([128, 784])\n",
      "torch.Size([128, 784])\n",
      "torch.Size([128, 784])\n",
      "torch.Size([128, 784])\n",
      "torch.Size([128, 784])\n",
      "torch.Size([128, 784])\n",
      "torch.Size([128, 784])\n",
      "torch.Size([128, 784])\n",
      "torch.Size([128, 784])\n",
      "torch.Size([128, 784])\n",
      "torch.Size([128, 784])\n",
      "torch.Size([128, 784])\n",
      "torch.Size([128, 784])\n",
      "torch.Size([128, 784])\n",
      "torch.Size([128, 784])\n",
      "torch.Size([128, 784])\n",
      "torch.Size([128, 784])\n",
      "torch.Size([128, 784])\n",
      "torch.Size([128, 784])\n",
      "torch.Size([128, 784])\n",
      "torch.Size([128, 784])\n",
      "torch.Size([128, 784])\n",
      "torch.Size([128, 784])\n",
      "torch.Size([128, 784])\n",
      "torch.Size([128, 784])\n",
      "torch.Size([128, 784])\n",
      "torch.Size([128, 784])\n",
      "torch.Size([128, 784])\n",
      "torch.Size([128, 784])\n",
      "torch.Size([128, 784])\n",
      "torch.Size([128, 784])\n",
      "torch.Size([128, 784])\n",
      "torch.Size([128, 784])\n",
      "torch.Size([128, 784])\n",
      "torch.Size([128, 784])\n",
      "torch.Size([128, 784])\n",
      "torch.Size([128, 784])\n",
      "torch.Size([128, 784])\n",
      "torch.Size([128, 784])\n",
      "torch.Size([128, 784])\n",
      "torch.Size([128, 784])\n",
      "torch.Size([128, 784])\n",
      "torch.Size([128, 784])\n",
      "torch.Size([128, 784])\n",
      "torch.Size([128, 784])\n",
      "torch.Size([128, 784])\n",
      "torch.Size([128, 784])\n",
      "torch.Size([128, 784])\n",
      "torch.Size([128, 784])\n",
      "torch.Size([128, 784])\n",
      "torch.Size([128, 784])\n",
      "torch.Size([128, 784])\n",
      "torch.Size([128, 784])\n",
      "torch.Size([128, 784])\n",
      "torch.Size([128, 784])\n",
      "torch.Size([128, 784])\n",
      "torch.Size([128, 784])\n",
      "torch.Size([128, 784])\n",
      "torch.Size([128, 784])\n",
      "torch.Size([128, 784])\n",
      "torch.Size([128, 784])\n",
      "torch.Size([128, 784])\n",
      "torch.Size([128, 784])\n",
      "torch.Size([128, 784])\n",
      "torch.Size([128, 784])\n",
      "torch.Size([128, 784])\n",
      "torch.Size([128, 784])\n",
      "torch.Size([128, 784])\n",
      "torch.Size([128, 784])\n",
      "torch.Size([128, 784])\n",
      "torch.Size([128, 784])\n",
      "torch.Size([128, 784])\n",
      "torch.Size([128, 784])\n",
      "torch.Size([128, 784])\n",
      "torch.Size([128, 784])\n",
      "torch.Size([128, 784])\n",
      "torch.Size([128, 784])\n",
      "torch.Size([128, 784])\n",
      "torch.Size([128, 784])\n",
      "torch.Size([128, 784])\n",
      "torch.Size([128, 784])\n",
      "torch.Size([128, 784])\n",
      "torch.Size([128, 784])\n",
      "torch.Size([128, 784])\n",
      "torch.Size([128, 784])\n",
      "torch.Size([128, 784])\n",
      "torch.Size([128, 784])\n",
      "torch.Size([128, 784])\n",
      "torch.Size([128, 784])\n",
      "torch.Size([128, 784])\n",
      "torch.Size([128, 784])\n",
      "torch.Size([128, 784])\n",
      "torch.Size([128, 784])\n",
      "torch.Size([128, 784])\n",
      "torch.Size([128, 784])\n",
      "torch.Size([128, 784])\n",
      "torch.Size([128, 784])\n",
      "torch.Size([128, 784])\n",
      "torch.Size([128, 784])\n",
      "torch.Size([128, 784])\n",
      "torch.Size([128, 784])\n",
      "torch.Size([128, 784])\n",
      "torch.Size([128, 784])\n",
      "torch.Size([128, 784])\n",
      "torch.Size([128, 784])\n",
      "torch.Size([128, 784])\n",
      "torch.Size([128, 784])\n",
      "torch.Size([128, 784])\n",
      "torch.Size([128, 784])\n",
      "torch.Size([128, 784])\n",
      "torch.Size([128, 784])\n",
      "torch.Size([128, 784])\n",
      "torch.Size([128, 784])\n",
      "torch.Size([128, 784])\n",
      "torch.Size([128, 784])\n",
      "torch.Size([128, 784])\n",
      "torch.Size([128, 784])\n",
      "torch.Size([128, 784])\n",
      "torch.Size([128, 784])\n",
      "torch.Size([128, 784])\n",
      "torch.Size([128, 784])\n",
      "torch.Size([128, 784])\n",
      "torch.Size([128, 784])\n",
      "torch.Size([128, 784])\n",
      "torch.Size([128, 784])\n",
      "torch.Size([128, 784])\n",
      "torch.Size([128, 784])\n",
      "torch.Size([128, 784])\n",
      "torch.Size([128, 784])\n",
      "torch.Size([128, 784])\n",
      "torch.Size([128, 784])\n",
      "torch.Size([128, 784])\n",
      "torch.Size([128, 784])\n",
      "torch.Size([128, 784])\n",
      "torch.Size([128, 784])\n",
      "torch.Size([128, 784])\n",
      "torch.Size([128, 784])\n",
      "torch.Size([128, 784])\n",
      "torch.Size([128, 784])\n",
      "torch.Size([128, 784])\n",
      "torch.Size([128, 784])\n",
      "torch.Size([128, 784])\n",
      "torch.Size([128, 784])\n",
      "torch.Size([128, 784])\n",
      "torch.Size([128, 784])\n",
      "torch.Size([128, 784])\n",
      "torch.Size([128, 784])\n",
      "torch.Size([128, 784])\n",
      "torch.Size([128, 784])\n",
      "torch.Size([128, 784])\n",
      "torch.Size([128, 784])\n",
      "torch.Size([128, 784])\n",
      "torch.Size([128, 784])\n",
      "torch.Size([128, 784])\n",
      "torch.Size([128, 784])\n",
      "torch.Size([128, 784])\n",
      "torch.Size([128, 784])\n",
      "torch.Size([128, 784])\n",
      "torch.Size([128, 784])\n",
      "torch.Size([128, 784])\n",
      "torch.Size([128, 784])\n",
      "torch.Size([128, 784])\n",
      "torch.Size([128, 784])\n",
      "torch.Size([128, 784])\n",
      "torch.Size([128, 784])\n",
      "torch.Size([128, 784])\n",
      "torch.Size([128, 784])\n",
      "torch.Size([128, 784])\n",
      "torch.Size([128, 784])\n",
      "torch.Size([128, 784])\n",
      "torch.Size([128, 784])\n",
      "torch.Size([128, 784])\n",
      "torch.Size([128, 784])\n",
      "torch.Size([128, 784])\n",
      "torch.Size([128, 784])\n",
      "torch.Size([128, 784])\n",
      "torch.Size([128, 784])\n",
      "torch.Size([128, 784])\n",
      "torch.Size([128, 784])\n",
      "torch.Size([128, 784])\n",
      "torch.Size([128, 784])\n",
      "torch.Size([128, 784])\n",
      "torch.Size([128, 784])\n",
      "torch.Size([128, 784])\n",
      "torch.Size([128, 784])\n",
      "torch.Size([128, 784])\n",
      "torch.Size([128, 784])\n",
      "torch.Size([128, 784])\n",
      "torch.Size([128, 784])\n",
      "torch.Size([128, 784])\n",
      "torch.Size([128, 784])\n",
      "torch.Size([128, 784])\n",
      "torch.Size([128, 784])\n",
      "torch.Size([128, 784])\n",
      "torch.Size([128, 784])\n",
      "torch.Size([128, 784])\n",
      "torch.Size([128, 784])\n",
      "torch.Size([128, 784])\n",
      "torch.Size([128, 784])\n",
      "torch.Size([128, 784])\n",
      "torch.Size([128, 784])\n",
      "torch.Size([128, 784])\n",
      "torch.Size([128, 784])\n",
      "torch.Size([128, 784])\n",
      "torch.Size([80, 784])\n"
     ]
    }
   ],
   "source": [
    "for images,labels in train_loader :\n",
    "    images = images.reshape(-1,1*28*28)\n",
    "    print(images.shape)"
   ]
  },
  {
   "cell_type": "code",
   "execution_count": 122,
   "id": "88acfba4-9a96-4fc4-99ce-766138e1b49a",
   "metadata": {},
   "outputs": [],
   "source": [
    "class MNISTModel(nn.Module ):\n",
    "    def __init__(self, input_size,classes):\n",
    "        super().__init__()\n",
    "        self.linear = nn.Linear(input_size,classes)\n",
    "        \n",
    "        \n",
    "    def forward(self,xb):\n",
    "        xb = xb.reshape(-1,1*28*28)\n",
    "        xb = self.linear(xb)\n",
    "        return xb\n",
    "\n",
    "\n",
    "        "
   ]
  },
  {
   "cell_type": "code",
   "execution_count": 123,
   "id": "d17c3b2c-6575-4578-9b5d-4a97e522e630",
   "metadata": {},
   "outputs": [],
   "source": [
    "model = MNISTModel(input_size , num_classification)"
   ]
  },
  {
   "cell_type": "markdown",
   "id": "c5dd78ec-d431-464f-8fa8-d97a313bc804",
   "metadata": {},
   "source": [
    "### All the parameters will be combined into one parameters() call."
   ]
  },
  {
   "cell_type": "code",
   "execution_count": 124,
   "id": "033055c7-47f8-40ff-91f1-a6a4889c5b57",
   "metadata": {},
   "outputs": [
    {
     "name": "stdout",
     "output_type": "stream",
     "text": [
      "<generator object Module.parameters at 0x00000243B98B9B60>\n"
     ]
    }
   ],
   "source": [
    "print(model.parameters())"
   ]
  },
  {
   "cell_type": "code",
   "execution_count": 125,
   "id": "8fe25158-1284-45ce-8c7a-2ee28671e085",
   "metadata": {},
   "outputs": [
    {
     "name": "stdout",
     "output_type": "stream",
     "text": [
      "torch.Size([128, 1, 28, 28])\n",
      "torch.Size([128, 10])\n",
      "tensor([ 0.2590, -0.1112, -0.2364, -0.2358,  0.0191,  0.0275, -0.1087, -0.1520,\n",
      "         0.0882, -0.1890], grad_fn=<SelectBackward0>)\n"
     ]
    }
   ],
   "source": [
    "for images,labels in train_loader :\n",
    "    output = model(images)\n",
    "    print(images.shape)\n",
    "    print(output.shape)\n",
    "    print(output[0])\n",
    "   \n",
    "    break"
   ]
  },
  {
   "cell_type": "markdown",
   "id": "41bb8854-5287-444d-aebc-c8a4448450be",
   "metadata": {},
   "source": [
    "We have to make sure that the sum of probabilities are one as it represent the chance of the digit , so we will be using softmax function"
   ]
  },
  {
   "cell_type": "code",
   "execution_count": 126,
   "id": "30cfc379-4f18-4f8d-9640-135602801ccf",
   "metadata": {},
   "outputs": [
    {
     "data": {
      "text/plain": [
       "(torch.Size([128, 10]),\n",
       " tensor([[ 0.2590, -0.1112, -0.2364,  ..., -0.1520,  0.0882, -0.1890],\n",
       "         [ 0.0152, -0.0666, -0.2766,  ..., -0.2363, -0.1339, -0.0259],\n",
       "         [ 0.2814, -0.1008, -0.2660,  ..., -0.4515, -0.1251, -0.1707],\n",
       "         ...,\n",
       "         [ 0.5675,  0.1632, -0.1772,  ..., -0.3975,  0.2325,  0.0018],\n",
       "         [ 0.4067,  0.2182, -0.2009,  ..., -0.3111, -0.1528, -0.0164],\n",
       "         [ 0.1424, -0.0795, -0.1319,  ..., -0.0795, -0.1882, -0.3380]],\n",
       "        grad_fn=<AddmmBackward0>))"
      ]
     },
     "execution_count": 126,
     "metadata": {},
     "output_type": "execute_result"
    }
   ],
   "source": [
    "output.shape,output"
   ]
  },
  {
   "cell_type": "markdown",
   "id": "edcedd30-7c21-4840-8bbb-4bc4c4e8f465",
   "metadata": {},
   "source": [
    "Current sum is not 1 and it contains 128 rows and 10 cols."
   ]
  },
  {
   "attachments": {
    "ecf87611-2f5c-4155-a801-ba981a439c6b.png": {
     "image/png": "[encoded data removed]"
    }
   },
   "cell_type": "markdown",
   "id": "c273226e-dadf-4f35-8b3b-e57ab4b1d1d9",
   "metadata": {},
   "source": [
    "![image.png](attachment:ecf87611-2f5c-4155-a801-ba981a439c6b.png)\n"
   ]
  },
  {
   "cell_type": "code",
   "execution_count": 127,
   "id": "a56f64d5-4644-4a1a-9c39-f6570ee19de5",
   "metadata": {},
   "outputs": [
    {
     "data": {
      "text/plain": [
       "tensor(1., grad_fn=<SumBackward0>)"
      ]
     },
     "execution_count": 127,
     "metadata": {},
     "output_type": "execute_result"
    }
   ],
   "source": [
    " torch.sum(F.softmax(output[0],dim=0))"
   ]
  },
  {
   "cell_type": "markdown",
   "id": "fe280e49-f9ee-4f5a-93f6-38bfe8711641",
   "metadata": {},
   "source": [
    "Current sum is 1 now "
   ]
  },
  {
   "cell_type": "code",
   "execution_count": 128,
   "id": "22a51ba3-c263-4194-af5d-bdfcc784da92",
   "metadata": {},
   "outputs": [
    {
     "data": {
      "text/plain": [
       "(tensor(10., grad_fn=<SumBackward0>), tensor(128., grad_fn=<SumBackward0>))"
      ]
     },
     "execution_count": 128,
     "metadata": {},
     "output_type": "execute_result"
    }
   ],
   "source": [
    "dim0 = torch.sum(F.softmax(output,dim=0))\n",
    "dim1 = torch.sum(F.softmax(output,dim=1))\n",
    "dim0 , dim1"
   ]
  },
  {
   "cell_type": "markdown",
   "id": "7b5f6d3f-2b6d-486e-bc4c-1a182e6cf4d0",
   "metadata": {},
   "source": [
    "This is a little confusing , but if you do a max on dimention 0 of tensor [128,10]  which will be on the column  . all the column will be summed to 1 and we have 10 columns so the total sum will be 10 , but we dont want that , we want each row to be summed as 1 thats why we should use dimention as 1 "
   ]
  },
  {
   "cell_type": "code",
   "execution_count": 130,
   "id": "4c9c04ee-2aa7-4a24-8aa7-56c4ca9683fd",
   "metadata": {},
   "outputs": [
    {
     "data": {
      "text/plain": [
       "(tensor([[0.1365, 0.0943, 0.0832,  ..., 0.0905, 0.1151, 0.0872],\n",
       "         [0.1100, 0.1014, 0.0822,  ..., 0.0856, 0.0948, 0.1056],\n",
       "         [0.1387, 0.0946, 0.0802,  ..., 0.0666, 0.0923, 0.0882],\n",
       "         ...,\n",
       "         [0.1613, 0.1077, 0.0766,  ..., 0.0615, 0.1154, 0.0916],\n",
       "         [0.1372, 0.1136, 0.0747,  ..., 0.0669, 0.0784, 0.0899],\n",
       "         [0.1238, 0.0992, 0.0941,  ..., 0.0992, 0.0890, 0.0766]],\n",
       "        grad_fn=<SoftmaxBackward0>),\n",
       " tensor(1., grad_fn=<SumBackward0>),\n",
       " 1.0)"
      ]
     },
     "execution_count": 130,
     "metadata": {},
     "output_type": "execute_result"
    }
   ],
   "source": [
    "probabities = F.softmax(output,dim=1)\n",
    "probabities,torch.sum(probabities[0]),torch.sum(probabities[0]).item()"
   ]
  },
  {
   "cell_type": "code",
   "execution_count": 132,
   "id": "87314be1-4531-4c61-8e6f-6fb65c3e9cad",
   "metadata": {},
   "outputs": [
    {
     "data": {
      "text/plain": [
       "torch.Size([128, 10])"
      ]
     },
     "execution_count": 132,
     "metadata": {},
     "output_type": "execute_result"
    }
   ],
   "source": [
    "probabities.shape"
   ]
  },
  {
   "cell_type": "code",
   "execution_count": null,
   "id": "c7950e8a-9b9a-47be-b90d-81c6e7041290",
   "metadata": {},
   "outputs": [],
   "source": []
  }
 ],
 "metadata": {
  "kernelspec": {
   "display_name": "Python 3 (ipykernel)",
   "language": "python",
   "name": "python3"
  },
  "language_info": {
   "codemirror_mode": {
    "name": "ipython",
    "version": 3
   },
   "file_extension": ".py",
   "mimetype": "text/x-python",
   "name": "python",
   "nbconvert_exporter": "python",
   "pygments_lexer": "ipython3",
   "version": "3.12.3"
  }
 },
 "nbformat": 4,
 "nbformat_minor": 5
}
