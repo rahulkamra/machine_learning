{
 "cells": [
  {
   "cell_type": "code",
   "execution_count": 246,
   "id": "14703244-8d77-42a9-9ece-e0aacc75ae80",
   "metadata": {},
   "outputs": [],
   "source": [
    "import torch.nn  as nn\n",
    "import numpy as np\n",
    "import torchvision\n",
    "from torchvision.datasets import MNIST\n",
    "import matplotlib.pyplot as plt\n",
    "import random\n",
    "from torchvision.transforms import transforms\n",
    "from torch.utils.data import random_split\n",
    "from torch.utils.data import TensorDataset,DataLoader\n",
    "import torch.nn.functional as F\n",
    "import torch\n"
   ]
  },
  {
   "cell_type": "code",
   "execution_count": 247,
   "id": "2b51ca3e-cb2d-4313-b0b1-f755ac18f979",
   "metadata": {},
   "outputs": [],
   "source": [
    "dataset = MNIST(root='data/',download=True)"
   ]
  },
  {
   "cell_type": "code",
   "execution_count": 248,
   "id": "39fd2706-54d7-4d83-a8a8-0edd6f790974",
   "metadata": {},
   "outputs": [
    {
     "data": {
      "text/plain": [
       "(Dataset MNIST\n",
       "     Number of datapoints: 60000\n",
       "     Root location: data/\n",
       "     Split: Train,\n",
       " 60000)"
      ]
     },
     "execution_count": 248,
     "metadata": {},
     "output_type": "execute_result"
    }
   ],
   "source": [
    "\n",
    "dataset,len(dataset)"
   ]
  },
  {
   "cell_type": "code",
   "execution_count": 249,
   "id": "1f43dbfb-1f47-4019-a47d-24bdead81f9e",
   "metadata": {},
   "outputs": [
    {
     "data": {
      "text/plain": [
       "10000"
      ]
     },
     "execution_count": 249,
     "metadata": {},
     "output_type": "execute_result"
    }
   ],
   "source": [
    "test_dataset = MNIST(root='data/',train=False)\n",
    "len(test_dataset)"
   ]
  },
  {
   "cell_type": "code",
   "execution_count": 250,
   "id": "c7d4bae2-2cc1-42ce-bca1-f3cb6474cfe8",
   "metadata": {},
   "outputs": [
    {
     "data": {
      "text/plain": [
       "(<PIL.Image.Image image mode=L size=28x28>, 5)"
      ]
     },
     "execution_count": 250,
     "metadata": {},
     "output_type": "execute_result"
    }
   ],
   "source": [
    "dataset[0]"
   ]
  },
  {
   "cell_type": "code",
   "execution_count": 251,
   "id": "f5b716ab-eef4-4229-b3d5-c88559513862",
   "metadata": {},
   "outputs": [
    {
     "data": {
      "image/jpeg": "[encoded data removed]",
      "image/png": "[encoded data removed]",
      "text/plain": [
       "<PIL.Image.Image image mode=L size=28x28>"
      ]
     },
     "execution_count": 251,
     "metadata": {},
     "output_type": "execute_result"
    }
   ],
   "source": [
    "image = dataset[0][0]\n",
    "image"
   ]
  },
  {
   "cell_type": "code",
   "execution_count": 252,
   "id": "686739a3-2bfe-4075-9880-6dd9ac68a5bb",
   "metadata": {},
   "outputs": [
    {
     "data": {
      "text/plain": [
       "5"
      ]
     },
     "execution_count": 252,
     "metadata": {},
     "output_type": "execute_result"
    }
   ],
   "source": [
    "label = dataset[0][1]\n",
    "label"
   ]
  },
  {
   "cell_type": "code",
   "execution_count": 253,
   "id": "ac9c0cab-c75a-45c3-bfdc-985476cb986b",
   "metadata": {},
   "outputs": [
    {
     "name": "stdout",
     "output_type": "stream",
     "text": [
      "5\n"
     ]
    },
    {
     "data": {
      "image/png": "[encoded data removed]",
      "text/plain": [
       "<Figure size 640x480 with 1 Axes>"
      ]
     },
     "metadata": {},
     "output_type": "display_data"
    }
   ],
   "source": [
    "plt.imshow(image,cmap='gray')\n",
    "print(label)"
   ]
  },
  {
   "cell_type": "code",
   "execution_count": 254,
   "id": "583227b1-6f84-4f70-9e3f-9d2f621f0f2a",
   "metadata": {},
   "outputs": [
    {
     "data": {
      "text/plain": [
       "60000"
      ]
     },
     "execution_count": 254,
     "metadata": {},
     "output_type": "execute_result"
    }
   ],
   "source": [
    "len(dataset)"
   ]
  },
  {
   "cell_type": "code",
   "execution_count": 255,
   "id": "57fd6c27-8f37-4bfc-8a7a-43afe1618b0a",
   "metadata": {},
   "outputs": [
    {
     "name": "stdout",
     "output_type": "stream",
     "text": [
      "2\n"
     ]
    },
    {
     "data": {
      "image/png": "[encoded data removed]",
      "text/plain": [
       "<Figure size 640x480 with 1 Axes>"
      ]
     },
     "metadata": {},
     "output_type": "display_data"
    }
   ],
   "source": [
    "element = dataset[random.randint(0,len(dataset))]\n",
    "plt.imshow(element[0],cmap='gray')\n",
    "print(element[1])"
   ]
  },
  {
   "cell_type": "code",
   "execution_count": 256,
   "id": "a0f4b067-3ecc-469e-bb7c-5b5d5095eac3",
   "metadata": {},
   "outputs": [
    {
     "data": {
      "text/plain": [
       "Dataset MNIST\n",
       "    Number of datapoints: 60000\n",
       "    Root location: data/\n",
       "    Split: Train\n",
       "    StandardTransform\n",
       "Transform: ToTensor()"
      ]
     },
     "execution_count": 256,
     "metadata": {},
     "output_type": "execute_result"
    }
   ],
   "source": [
    "dataset = MNIST(root='data/',download=True , transform= transforms.ToTensor())\n",
    "dataset"
   ]
  },
  {
   "cell_type": "code",
   "execution_count": 257,
   "id": "a393bb75-55bc-4b21-a357-2a92665c8011",
   "metadata": {},
   "outputs": [
    {
     "data": {
      "text/plain": [
       "(tensor([[[0.0000, 0.0000, 0.0000, 0.0000, 0.0000, 0.0000, 0.0000, 0.0000,\n",
       "           0.0000, 0.0000, 0.0000, 0.0000, 0.0000, 0.0000, 0.0000, 0.0000,\n",
       "           0.0000, 0.0000, 0.0000, 0.0000, 0.0000, 0.0000, 0.0000, 0.0000,\n",
       "           0.0000, 0.0000, 0.0000, 0.0000],\n",
       "          [0.0000, 0.0000, 0.0000, 0.0000, 0.0000, 0.0000, 0.0000, 0.0000,\n",
       "           0.0000, 0.0000, 0.0000, 0.0000, 0.0000, 0.0000, 0.0000, 0.0000,\n",
       "           0.0000, 0.0000, 0.0000, 0.0000, 0.0000, 0.0000, 0.0000, 0.0000,\n",
       "           0.0000, 0.0000, 0.0000, 0.0000],\n",
       "          [0.0000, 0.0000, 0.0000, 0.0000, 0.0000, 0.0000, 0.0000, 0.0000,\n",
       "           0.0000, 0.0000, 0.0000, 0.0000, 0.0000, 0.0000, 0.0000, 0.0000,\n",
       "           0.0000, 0.0000, 0.0000, 0.0000, 0.0000, 0.0000, 0.0000, 0.0000,\n",
       "           0.0000, 0.0000, 0.0000, 0.0000],\n",
       "          [0.0000, 0.0000, 0.0000, 0.0000, 0.0000, 0.0000, 0.0000, 0.0000,\n",
       "           0.0000, 0.0000, 0.0000, 0.0000, 0.0000, 0.0000, 0.0000, 0.0000,\n",
       "           0.0000, 0.0000, 0.0000, 0.0000, 0.0000, 0.0000, 0.0000, 0.0000,\n",
       "           0.0000, 0.0000, 0.0000, 0.0000],\n",
       "          [0.0000, 0.0000, 0.0000, 0.0000, 0.0000, 0.0000, 0.0000, 0.0000,\n",
       "           0.0000, 0.0000, 0.0000, 0.0000, 0.0000, 0.0000, 0.0000, 0.0000,\n",
       "           0.0000, 0.0000, 0.0000, 0.0000, 0.0000, 0.0000, 0.0000, 0.0000,\n",
       "           0.0000, 0.0000, 0.0000, 0.0000],\n",
       "          [0.0000, 0.0000, 0.0000, 0.0000, 0.0000, 0.0000, 0.0000, 0.0000,\n",
       "           0.0000, 0.0000, 0.0000, 0.0000, 0.0118, 0.0706, 0.0706, 0.0706,\n",
       "           0.4941, 0.5333, 0.6863, 0.1020, 0.6510, 1.0000, 0.9686, 0.4980,\n",
       "           0.0000, 0.0000, 0.0000, 0.0000],\n",
       "          [0.0000, 0.0000, 0.0000, 0.0000, 0.0000, 0.0000, 0.0000, 0.0000,\n",
       "           0.1176, 0.1412, 0.3686, 0.6039, 0.6667, 0.9922, 0.9922, 0.9922,\n",
       "           0.9922, 0.9922, 0.8824, 0.6745, 0.9922, 0.9490, 0.7647, 0.2510,\n",
       "           0.0000, 0.0000, 0.0000, 0.0000],\n",
       "          [0.0000, 0.0000, 0.0000, 0.0000, 0.0000, 0.0000, 0.0000, 0.1922,\n",
       "           0.9333, 0.9922, 0.9922, 0.9922, 0.9922, 0.9922, 0.9922, 0.9922,\n",
       "           0.9922, 0.9843, 0.3647, 0.3216, 0.3216, 0.2196, 0.1529, 0.0000,\n",
       "           0.0000, 0.0000, 0.0000, 0.0000],\n",
       "          [0.0000, 0.0000, 0.0000, 0.0000, 0.0000, 0.0000, 0.0000, 0.0706,\n",
       "           0.8588, 0.9922, 0.9922, 0.9922, 0.9922, 0.9922, 0.7765, 0.7137,\n",
       "           0.9686, 0.9451, 0.0000, 0.0000, 0.0000, 0.0000, 0.0000, 0.0000,\n",
       "           0.0000, 0.0000, 0.0000, 0.0000],\n",
       "          [0.0000, 0.0000, 0.0000, 0.0000, 0.0000, 0.0000, 0.0000, 0.0000,\n",
       "           0.3137, 0.6118, 0.4196, 0.9922, 0.9922, 0.8039, 0.0431, 0.0000,\n",
       "           0.1686, 0.6039, 0.0000, 0.0000, 0.0000, 0.0000, 0.0000, 0.0000,\n",
       "           0.0000, 0.0000, 0.0000, 0.0000],\n",
       "          [0.0000, 0.0000, 0.0000, 0.0000, 0.0000, 0.0000, 0.0000, 0.0000,\n",
       "           0.0000, 0.0549, 0.0039, 0.6039, 0.9922, 0.3529, 0.0000, 0.0000,\n",
       "           0.0000, 0.0000, 0.0000, 0.0000, 0.0000, 0.0000, 0.0000, 0.0000,\n",
       "           0.0000, 0.0000, 0.0000, 0.0000],\n",
       "          [0.0000, 0.0000, 0.0000, 0.0000, 0.0000, 0.0000, 0.0000, 0.0000,\n",
       "           0.0000, 0.0000, 0.0000, 0.5451, 0.9922, 0.7451, 0.0078, 0.0000,\n",
       "           0.0000, 0.0000, 0.0000, 0.0000, 0.0000, 0.0000, 0.0000, 0.0000,\n",
       "           0.0000, 0.0000, 0.0000, 0.0000],\n",
       "          [0.0000, 0.0000, 0.0000, 0.0000, 0.0000, 0.0000, 0.0000, 0.0000,\n",
       "           0.0000, 0.0000, 0.0000, 0.0431, 0.7451, 0.9922, 0.2745, 0.0000,\n",
       "           0.0000, 0.0000, 0.0000, 0.0000, 0.0000, 0.0000, 0.0000, 0.0000,\n",
       "           0.0000, 0.0000, 0.0000, 0.0000],\n",
       "          [0.0000, 0.0000, 0.0000, 0.0000, 0.0000, 0.0000, 0.0000, 0.0000,\n",
       "           0.0000, 0.0000, 0.0000, 0.0000, 0.1373, 0.9451, 0.8824, 0.6275,\n",
       "           0.4235, 0.0039, 0.0000, 0.0000, 0.0000, 0.0000, 0.0000, 0.0000,\n",
       "           0.0000, 0.0000, 0.0000, 0.0000],\n",
       "          [0.0000, 0.0000, 0.0000, 0.0000, 0.0000, 0.0000, 0.0000, 0.0000,\n",
       "           0.0000, 0.0000, 0.0000, 0.0000, 0.0000, 0.3176, 0.9412, 0.9922,\n",
       "           0.9922, 0.4667, 0.0980, 0.0000, 0.0000, 0.0000, 0.0000, 0.0000,\n",
       "           0.0000, 0.0000, 0.0000, 0.0000],\n",
       "          [0.0000, 0.0000, 0.0000, 0.0000, 0.0000, 0.0000, 0.0000, 0.0000,\n",
       "           0.0000, 0.0000, 0.0000, 0.0000, 0.0000, 0.0000, 0.1765, 0.7294,\n",
       "           0.9922, 0.9922, 0.5882, 0.1059, 0.0000, 0.0000, 0.0000, 0.0000,\n",
       "           0.0000, 0.0000, 0.0000, 0.0000],\n",
       "          [0.0000, 0.0000, 0.0000, 0.0000, 0.0000, 0.0000, 0.0000, 0.0000,\n",
       "           0.0000, 0.0000, 0.0000, 0.0000, 0.0000, 0.0000, 0.0000, 0.0627,\n",
       "           0.3647, 0.9882, 0.9922, 0.7333, 0.0000, 0.0000, 0.0000, 0.0000,\n",
       "           0.0000, 0.0000, 0.0000, 0.0000],\n",
       "          [0.0000, 0.0000, 0.0000, 0.0000, 0.0000, 0.0000, 0.0000, 0.0000,\n",
       "           0.0000, 0.0000, 0.0000, 0.0000, 0.0000, 0.0000, 0.0000, 0.0000,\n",
       "           0.0000, 0.9765, 0.9922, 0.9765, 0.2510, 0.0000, 0.0000, 0.0000,\n",
       "           0.0000, 0.0000, 0.0000, 0.0000],\n",
       "          [0.0000, 0.0000, 0.0000, 0.0000, 0.0000, 0.0000, 0.0000, 0.0000,\n",
       "           0.0000, 0.0000, 0.0000, 0.0000, 0.0000, 0.0000, 0.1804, 0.5098,\n",
       "           0.7176, 0.9922, 0.9922, 0.8118, 0.0078, 0.0000, 0.0000, 0.0000,\n",
       "           0.0000, 0.0000, 0.0000, 0.0000],\n",
       "          [0.0000, 0.0000, 0.0000, 0.0000, 0.0000, 0.0000, 0.0000, 0.0000,\n",
       "           0.0000, 0.0000, 0.0000, 0.0000, 0.1529, 0.5804, 0.8980, 0.9922,\n",
       "           0.9922, 0.9922, 0.9804, 0.7137, 0.0000, 0.0000, 0.0000, 0.0000,\n",
       "           0.0000, 0.0000, 0.0000, 0.0000],\n",
       "          [0.0000, 0.0000, 0.0000, 0.0000, 0.0000, 0.0000, 0.0000, 0.0000,\n",
       "           0.0000, 0.0000, 0.0941, 0.4471, 0.8667, 0.9922, 0.9922, 0.9922,\n",
       "           0.9922, 0.7882, 0.3059, 0.0000, 0.0000, 0.0000, 0.0000, 0.0000,\n",
       "           0.0000, 0.0000, 0.0000, 0.0000],\n",
       "          [0.0000, 0.0000, 0.0000, 0.0000, 0.0000, 0.0000, 0.0000, 0.0000,\n",
       "           0.0902, 0.2588, 0.8353, 0.9922, 0.9922, 0.9922, 0.9922, 0.7765,\n",
       "           0.3176, 0.0078, 0.0000, 0.0000, 0.0000, 0.0000, 0.0000, 0.0000,\n",
       "           0.0000, 0.0000, 0.0000, 0.0000],\n",
       "          [0.0000, 0.0000, 0.0000, 0.0000, 0.0000, 0.0000, 0.0706, 0.6706,\n",
       "           0.8588, 0.9922, 0.9922, 0.9922, 0.9922, 0.7647, 0.3137, 0.0353,\n",
       "           0.0000, 0.0000, 0.0000, 0.0000, 0.0000, 0.0000, 0.0000, 0.0000,\n",
       "           0.0000, 0.0000, 0.0000, 0.0000],\n",
       "          [0.0000, 0.0000, 0.0000, 0.0000, 0.2157, 0.6745, 0.8863, 0.9922,\n",
       "           0.9922, 0.9922, 0.9922, 0.9569, 0.5216, 0.0431, 0.0000, 0.0000,\n",
       "           0.0000, 0.0000, 0.0000, 0.0000, 0.0000, 0.0000, 0.0000, 0.0000,\n",
       "           0.0000, 0.0000, 0.0000, 0.0000],\n",
       "          [0.0000, 0.0000, 0.0000, 0.0000, 0.5333, 0.9922, 0.9922, 0.9922,\n",
       "           0.8314, 0.5294, 0.5176, 0.0627, 0.0000, 0.0000, 0.0000, 0.0000,\n",
       "           0.0000, 0.0000, 0.0000, 0.0000, 0.0000, 0.0000, 0.0000, 0.0000,\n",
       "           0.0000, 0.0000, 0.0000, 0.0000],\n",
       "          [0.0000, 0.0000, 0.0000, 0.0000, 0.0000, 0.0000, 0.0000, 0.0000,\n",
       "           0.0000, 0.0000, 0.0000, 0.0000, 0.0000, 0.0000, 0.0000, 0.0000,\n",
       "           0.0000, 0.0000, 0.0000, 0.0000, 0.0000, 0.0000, 0.0000, 0.0000,\n",
       "           0.0000, 0.0000, 0.0000, 0.0000],\n",
       "          [0.0000, 0.0000, 0.0000, 0.0000, 0.0000, 0.0000, 0.0000, 0.0000,\n",
       "           0.0000, 0.0000, 0.0000, 0.0000, 0.0000, 0.0000, 0.0000, 0.0000,\n",
       "           0.0000, 0.0000, 0.0000, 0.0000, 0.0000, 0.0000, 0.0000, 0.0000,\n",
       "           0.0000, 0.0000, 0.0000, 0.0000],\n",
       "          [0.0000, 0.0000, 0.0000, 0.0000, 0.0000, 0.0000, 0.0000, 0.0000,\n",
       "           0.0000, 0.0000, 0.0000, 0.0000, 0.0000, 0.0000, 0.0000, 0.0000,\n",
       "           0.0000, 0.0000, 0.0000, 0.0000, 0.0000, 0.0000, 0.0000, 0.0000,\n",
       "           0.0000, 0.0000, 0.0000, 0.0000]]]),\n",
       " 5)"
      ]
     },
     "execution_count": 257,
     "metadata": {},
     "output_type": "execute_result"
    }
   ],
   "source": [
    "image_tensor,label = dataset[0]\n",
    "image_tensor,label"
   ]
  },
  {
   "cell_type": "code",
   "execution_count": 258,
   "id": "a1bf0082-89de-4ed0-931b-6b928b254ef5",
   "metadata": {},
   "outputs": [
    {
     "data": {
      "text/plain": [
       "torch.Size([1, 28, 28])"
      ]
     },
     "execution_count": 258,
     "metadata": {},
     "output_type": "execute_result"
    }
   ],
   "source": [
    "image_tensor.shape"
   ]
  },
  {
   "cell_type": "code",
   "execution_count": 259,
   "id": "6f05a826-00b0-495c-8bd6-4203a7bb5857",
   "metadata": {},
   "outputs": [
    {
     "data": {
      "text/plain": [
       "tensor([[0.0039, 0.6039, 0.9922, 0.3529, 0.0000],\n",
       "        [0.0000, 0.5451, 0.9922, 0.7451, 0.0078],\n",
       "        [0.0000, 0.0431, 0.7451, 0.9922, 0.2745],\n",
       "        [0.0000, 0.0000, 0.1373, 0.9451, 0.8824],\n",
       "        [0.0000, 0.0000, 0.0000, 0.3176, 0.9412]])"
      ]
     },
     "execution_count": 259,
     "metadata": {},
     "output_type": "execute_result"
    }
   ],
   "source": [
    "image_tensor[0,10:15,10:15]"
   ]
  },
  {
   "cell_type": "code",
   "execution_count": 260,
   "id": "0c6f0f48-085f-48c2-9b63-e940d2f203b8",
   "metadata": {},
   "outputs": [
    {
     "data": {
      "text/plain": [
       "<matplotlib.image.AxesImage at 0x1d058ba2de0>"
      ]
     },
     "execution_count": 260,
     "metadata": {},
     "output_type": "execute_result"
    },
    {
     "data": {
      "image/png": "[encoded data removed]",
      "text/plain": [
       "<Figure size 640x480 with 1 Axes>"
      ]
     },
     "metadata": {},
     "output_type": "display_data"
    }
   ],
   "source": [
    "plt.imshow(image_tensor[0,10:15,10:15],cmap='gray')"
   ]
  },
  {
   "cell_type": "code",
   "execution_count": 261,
   "id": "52d7a015-ae17-454d-b3f9-c3ebfe317595",
   "metadata": {},
   "outputs": [
    {
     "data": {
      "text/plain": [
       "(50000, 10000)"
      ]
     },
     "execution_count": 261,
     "metadata": {},
     "output_type": "execute_result"
    }
   ],
   "source": [
    "train_dataset,validation_dataset = random_split(dataset,[50000,10000])\n",
    "len(train_dataset),len(validation_dataset)"
   ]
  },
  {
   "cell_type": "code",
   "execution_count": 262,
   "id": "e1ea0303-4773-43db-8366-8f4b98a98b4b",
   "metadata": {},
   "outputs": [],
   "source": [
    "batch_size = 128"
   ]
  },
  {
   "cell_type": "code",
   "execution_count": 263,
   "id": "a3ad5d26-39c6-4ae1-9cec-c16f5ba61e7d",
   "metadata": {},
   "outputs": [
    {
     "data": {
      "text/plain": [
       "(<torch.utils.data.dataloader.DataLoader at 0x1d04eaae090>,\n",
       " <torch.utils.data.dataloader.DataLoader at 0x1d04e706810>)"
      ]
     },
     "execution_count": 263,
     "metadata": {},
     "output_type": "execute_result"
    }
   ],
   "source": [
    "train_loader = DataLoader(train_dataset,batch_size = batch_size, shuffle = True)\n",
    "validation_loader = DataLoader(validation_dataset , batch_size= batch_size , shuffle= False)\n",
    "train_loader , validation_loader"
   ]
  },
  {
   "cell_type": "code",
   "execution_count": 264,
   "id": "e9078625-52c1-41a7-a70b-6a99a03bc0ef",
   "metadata": {},
   "outputs": [],
   "source": [
    "\n",
    "input_size = 1* 28 * 28\n",
    "num_classification = 10\n",
    "model = nn.Linear(input_size , num_classification)\n",
    "    \n",
    "        "
   ]
  },
  {
   "cell_type": "code",
   "execution_count": 265,
   "id": "b16c8e29-3b51-4e60-ac9b-59c72a68b4e8",
   "metadata": {},
   "outputs": [
    {
     "data": {
      "text/plain": [
       "(torch.Size([10, 784]), torch.Size([10]))"
      ]
     },
     "execution_count": 265,
     "metadata": {},
     "output_type": "execute_result"
    }
   ],
   "source": [
    "model.weight.shape,model.bias.shape\n"
   ]
  },
  {
   "cell_type": "code",
   "execution_count": 266,
   "id": "93412fe1-0abe-41ea-8eb4-142f9d4b615c",
   "metadata": {},
   "outputs": [
    {
     "data": {
      "text/plain": [
       "'this will throw an error'"
      ]
     },
     "execution_count": 266,
     "metadata": {},
     "output_type": "execute_result"
    }
   ],
   "source": [
    "\n",
    "\"\"\"for images,labels in train_loader :\n",
    "    print(images.shape)\n",
    "    print(labels)\n",
    "    model(images)\"\"\"\n",
    "\"\"\"this will throw an error\"\"\"\n",
    "    "
   ]
  },
  {
   "cell_type": "code",
   "execution_count": 267,
   "id": "b1f596d7-6be6-4789-b36a-fe0f5b97f159",
   "metadata": {},
   "outputs": [
    {
     "name": "stdout",
     "output_type": "stream",
     "text": [
      "torch.Size([128, 784])\n",
      "torch.Size([128, 784])\n",
      "torch.Size([128, 784])\n",
      "torch.Size([128, 784])\n",
      "torch.Size([128, 784])\n",
      "torch.Size([128, 784])\n",
      "torch.Size([128, 784])\n",
      "torch.Size([128, 784])\n",
      "torch.Size([128, 784])\n",
      "torch.Size([128, 784])\n",
      "torch.Size([128, 784])\n",
      "torch.Size([128, 784])\n",
      "torch.Size([128, 784])\n",
      "torch.Size([128, 784])\n",
      "torch.Size([128, 784])\n",
      "torch.Size([128, 784])\n",
      "torch.Size([128, 784])\n",
      "torch.Size([128, 784])\n",
      "torch.Size([128, 784])\n",
      "torch.Size([128, 784])\n",
      "torch.Size([128, 784])\n",
      "torch.Size([128, 784])\n",
      "torch.Size([128, 784])\n",
      "torch.Size([128, 784])\n",
      "torch.Size([128, 784])\n",
      "torch.Size([128, 784])\n",
      "torch.Size([128, 784])\n",
      "torch.Size([128, 784])\n",
      "torch.Size([128, 784])\n",
      "torch.Size([128, 784])\n",
      "torch.Size([128, 784])\n",
      "torch.Size([128, 784])\n",
      "torch.Size([128, 784])\n",
      "torch.Size([128, 784])\n",
      "torch.Size([128, 784])\n",
      "torch.Size([128, 784])\n",
      "torch.Size([128, 784])\n",
      "torch.Size([128, 784])\n",
      "torch.Size([128, 784])\n",
      "torch.Size([128, 784])\n",
      "torch.Size([128, 784])\n",
      "torch.Size([128, 784])\n",
      "torch.Size([128, 784])\n",
      "torch.Size([128, 784])\n",
      "torch.Size([128, 784])\n",
      "torch.Size([128, 784])\n",
      "torch.Size([128, 784])\n",
      "torch.Size([128, 784])\n",
      "torch.Size([128, 784])\n",
      "torch.Size([128, 784])\n",
      "torch.Size([128, 784])\n",
      "torch.Size([128, 784])\n",
      "torch.Size([128, 784])\n",
      "torch.Size([128, 784])\n",
      "torch.Size([128, 784])\n",
      "torch.Size([128, 784])\n",
      "torch.Size([128, 784])\n",
      "torch.Size([128, 784])\n",
      "torch.Size([128, 784])\n",
      "torch.Size([128, 784])\n",
      "torch.Size([128, 784])\n",
      "torch.Size([128, 784])\n",
      "torch.Size([128, 784])\n",
      "torch.Size([128, 784])\n",
      "torch.Size([128, 784])\n",
      "torch.Size([128, 784])\n",
      "torch.Size([128, 784])\n",
      "torch.Size([128, 784])\n",
      "torch.Size([128, 784])\n",
      "torch.Size([128, 784])\n",
      "torch.Size([128, 784])\n",
      "torch.Size([128, 784])\n",
      "torch.Size([128, 784])\n",
      "torch.Size([128, 784])\n",
      "torch.Size([128, 784])\n",
      "torch.Size([128, 784])\n",
      "torch.Size([128, 784])\n",
      "torch.Size([128, 784])\n",
      "torch.Size([128, 784])\n",
      "torch.Size([128, 784])\n",
      "torch.Size([128, 784])\n",
      "torch.Size([128, 784])\n",
      "torch.Size([128, 784])\n",
      "torch.Size([128, 784])\n",
      "torch.Size([128, 784])\n",
      "torch.Size([128, 784])\n",
      "torch.Size([128, 784])\n",
      "torch.Size([128, 784])\n",
      "torch.Size([128, 784])\n",
      "torch.Size([128, 784])\n",
      "torch.Size([128, 784])\n",
      "torch.Size([128, 784])\n",
      "torch.Size([128, 784])\n",
      "torch.Size([128, 784])\n",
      "torch.Size([128, 784])\n",
      "torch.Size([128, 784])\n",
      "torch.Size([128, 784])\n",
      "torch.Size([128, 784])\n",
      "torch.Size([128, 784])\n",
      "torch.Size([128, 784])\n",
      "torch.Size([128, 784])\n",
      "torch.Size([128, 784])\n",
      "torch.Size([128, 784])\n",
      "torch.Size([128, 784])\n",
      "torch.Size([128, 784])\n",
      "torch.Size([128, 784])\n",
      "torch.Size([128, 784])\n",
      "torch.Size([128, 784])\n",
      "torch.Size([128, 784])\n",
      "torch.Size([128, 784])\n",
      "torch.Size([128, 784])\n",
      "torch.Size([128, 784])\n",
      "torch.Size([128, 784])\n",
      "torch.Size([128, 784])\n",
      "torch.Size([128, 784])\n",
      "torch.Size([128, 784])\n",
      "torch.Size([128, 784])\n",
      "torch.Size([128, 784])\n",
      "torch.Size([128, 784])\n",
      "torch.Size([128, 784])\n",
      "torch.Size([128, 784])\n",
      "torch.Size([128, 784])\n",
      "torch.Size([128, 784])\n",
      "torch.Size([128, 784])\n",
      "torch.Size([128, 784])\n",
      "torch.Size([128, 784])\n",
      "torch.Size([128, 784])\n",
      "torch.Size([128, 784])\n",
      "torch.Size([128, 784])\n",
      "torch.Size([128, 784])\n",
      "torch.Size([128, 784])\n",
      "torch.Size([128, 784])\n",
      "torch.Size([128, 784])\n",
      "torch.Size([128, 784])\n",
      "torch.Size([128, 784])\n",
      "torch.Size([128, 784])\n",
      "torch.Size([128, 784])\n",
      "torch.Size([128, 784])\n",
      "torch.Size([128, 784])\n",
      "torch.Size([128, 784])\n",
      "torch.Size([128, 784])\n",
      "torch.Size([128, 784])\n",
      "torch.Size([128, 784])\n",
      "torch.Size([128, 784])\n",
      "torch.Size([128, 784])\n",
      "torch.Size([128, 784])\n",
      "torch.Size([128, 784])\n",
      "torch.Size([128, 784])\n",
      "torch.Size([128, 784])\n",
      "torch.Size([128, 784])\n",
      "torch.Size([128, 784])\n",
      "torch.Size([128, 784])\n",
      "torch.Size([128, 784])\n",
      "torch.Size([128, 784])\n",
      "torch.Size([128, 784])\n",
      "torch.Size([128, 784])\n",
      "torch.Size([128, 784])\n",
      "torch.Size([128, 784])\n",
      "torch.Size([128, 784])\n",
      "torch.Size([128, 784])\n",
      "torch.Size([128, 784])\n",
      "torch.Size([128, 784])\n",
      "torch.Size([128, 784])\n",
      "torch.Size([128, 784])\n",
      "torch.Size([128, 784])\n",
      "torch.Size([128, 784])\n",
      "torch.Size([128, 784])\n",
      "torch.Size([128, 784])\n",
      "torch.Size([128, 784])\n",
      "torch.Size([128, 784])\n",
      "torch.Size([128, 784])\n",
      "torch.Size([128, 784])\n",
      "torch.Size([128, 784])\n",
      "torch.Size([128, 784])\n",
      "torch.Size([128, 784])\n",
      "torch.Size([128, 784])\n",
      "torch.Size([128, 784])\n",
      "torch.Size([128, 784])\n",
      "torch.Size([128, 784])\n",
      "torch.Size([128, 784])\n",
      "torch.Size([128, 784])\n",
      "torch.Size([128, 784])\n",
      "torch.Size([128, 784])\n",
      "torch.Size([128, 784])\n",
      "torch.Size([128, 784])\n",
      "torch.Size([128, 784])\n",
      "torch.Size([128, 784])\n",
      "torch.Size([128, 784])\n",
      "torch.Size([128, 784])\n",
      "torch.Size([128, 784])\n",
      "torch.Size([128, 784])\n",
      "torch.Size([128, 784])\n",
      "torch.Size([128, 784])\n",
      "torch.Size([128, 784])\n",
      "torch.Size([128, 784])\n",
      "torch.Size([128, 784])\n",
      "torch.Size([128, 784])\n",
      "torch.Size([128, 784])\n",
      "torch.Size([128, 784])\n",
      "torch.Size([128, 784])\n",
      "torch.Size([128, 784])\n",
      "torch.Size([128, 784])\n",
      "torch.Size([128, 784])\n",
      "torch.Size([128, 784])\n",
      "torch.Size([128, 784])\n",
      "torch.Size([128, 784])\n",
      "torch.Size([128, 784])\n",
      "torch.Size([128, 784])\n",
      "torch.Size([128, 784])\n",
      "torch.Size([128, 784])\n",
      "torch.Size([128, 784])\n",
      "torch.Size([128, 784])\n",
      "torch.Size([128, 784])\n",
      "torch.Size([128, 784])\n",
      "torch.Size([128, 784])\n",
      "torch.Size([128, 784])\n",
      "torch.Size([128, 784])\n",
      "torch.Size([128, 784])\n",
      "torch.Size([128, 784])\n",
      "torch.Size([128, 784])\n",
      "torch.Size([128, 784])\n",
      "torch.Size([128, 784])\n",
      "torch.Size([128, 784])\n",
      "torch.Size([128, 784])\n",
      "torch.Size([128, 784])\n",
      "torch.Size([128, 784])\n",
      "torch.Size([128, 784])\n",
      "torch.Size([128, 784])\n",
      "torch.Size([128, 784])\n",
      "torch.Size([128, 784])\n",
      "torch.Size([128, 784])\n",
      "torch.Size([128, 784])\n",
      "torch.Size([128, 784])\n",
      "torch.Size([128, 784])\n",
      "torch.Size([128, 784])\n",
      "torch.Size([128, 784])\n",
      "torch.Size([128, 784])\n",
      "torch.Size([128, 784])\n",
      "torch.Size([128, 784])\n",
      "torch.Size([128, 784])\n",
      "torch.Size([128, 784])\n",
      "torch.Size([128, 784])\n",
      "torch.Size([128, 784])\n",
      "torch.Size([128, 784])\n",
      "torch.Size([128, 784])\n",
      "torch.Size([128, 784])\n",
      "torch.Size([128, 784])\n",
      "torch.Size([128, 784])\n",
      "torch.Size([128, 784])\n",
      "torch.Size([128, 784])\n",
      "torch.Size([128, 784])\n",
      "torch.Size([128, 784])\n",
      "torch.Size([128, 784])\n",
      "torch.Size([128, 784])\n",
      "torch.Size([128, 784])\n",
      "torch.Size([128, 784])\n",
      "torch.Size([128, 784])\n",
      "torch.Size([128, 784])\n",
      "torch.Size([128, 784])\n",
      "torch.Size([128, 784])\n",
      "torch.Size([128, 784])\n",
      "torch.Size([128, 784])\n",
      "torch.Size([128, 784])\n",
      "torch.Size([128, 784])\n",
      "torch.Size([128, 784])\n",
      "torch.Size([128, 784])\n",
      "torch.Size([128, 784])\n",
      "torch.Size([128, 784])\n",
      "torch.Size([128, 784])\n",
      "torch.Size([128, 784])\n",
      "torch.Size([128, 784])\n",
      "torch.Size([128, 784])\n",
      "torch.Size([128, 784])\n",
      "torch.Size([128, 784])\n",
      "torch.Size([128, 784])\n",
      "torch.Size([128, 784])\n",
      "torch.Size([128, 784])\n",
      "torch.Size([128, 784])\n",
      "torch.Size([128, 784])\n",
      "torch.Size([128, 784])\n",
      "torch.Size([128, 784])\n",
      "torch.Size([128, 784])\n",
      "torch.Size([128, 784])\n",
      "torch.Size([128, 784])\n",
      "torch.Size([128, 784])\n",
      "torch.Size([128, 784])\n",
      "torch.Size([128, 784])\n",
      "torch.Size([128, 784])\n",
      "torch.Size([128, 784])\n",
      "torch.Size([128, 784])\n",
      "torch.Size([128, 784])\n",
      "torch.Size([128, 784])\n",
      "torch.Size([128, 784])\n",
      "torch.Size([128, 784])\n",
      "torch.Size([128, 784])\n",
      "torch.Size([128, 784])\n",
      "torch.Size([128, 784])\n",
      "torch.Size([128, 784])\n",
      "torch.Size([128, 784])\n",
      "torch.Size([128, 784])\n",
      "torch.Size([128, 784])\n",
      "torch.Size([128, 784])\n",
      "torch.Size([128, 784])\n",
      "torch.Size([128, 784])\n",
      "torch.Size([128, 784])\n",
      "torch.Size([128, 784])\n",
      "torch.Size([128, 784])\n",
      "torch.Size([128, 784])\n",
      "torch.Size([128, 784])\n",
      "torch.Size([128, 784])\n",
      "torch.Size([128, 784])\n",
      "torch.Size([128, 784])\n",
      "torch.Size([128, 784])\n",
      "torch.Size([128, 784])\n",
      "torch.Size([128, 784])\n",
      "torch.Size([128, 784])\n",
      "torch.Size([128, 784])\n",
      "torch.Size([128, 784])\n",
      "torch.Size([128, 784])\n",
      "torch.Size([128, 784])\n",
      "torch.Size([128, 784])\n",
      "torch.Size([128, 784])\n",
      "torch.Size([128, 784])\n",
      "torch.Size([128, 784])\n",
      "torch.Size([128, 784])\n",
      "torch.Size([128, 784])\n",
      "torch.Size([128, 784])\n",
      "torch.Size([128, 784])\n",
      "torch.Size([128, 784])\n",
      "torch.Size([128, 784])\n",
      "torch.Size([128, 784])\n",
      "torch.Size([128, 784])\n",
      "torch.Size([128, 784])\n",
      "torch.Size([128, 784])\n",
      "torch.Size([128, 784])\n",
      "torch.Size([128, 784])\n",
      "torch.Size([128, 784])\n",
      "torch.Size([128, 784])\n",
      "torch.Size([128, 784])\n",
      "torch.Size([128, 784])\n",
      "torch.Size([128, 784])\n",
      "torch.Size([128, 784])\n",
      "torch.Size([128, 784])\n",
      "torch.Size([128, 784])\n",
      "torch.Size([128, 784])\n",
      "torch.Size([128, 784])\n",
      "torch.Size([128, 784])\n",
      "torch.Size([128, 784])\n",
      "torch.Size([128, 784])\n",
      "torch.Size([128, 784])\n",
      "torch.Size([128, 784])\n",
      "torch.Size([128, 784])\n",
      "torch.Size([128, 784])\n",
      "torch.Size([128, 784])\n",
      "torch.Size([128, 784])\n",
      "torch.Size([128, 784])\n",
      "torch.Size([128, 784])\n",
      "torch.Size([128, 784])\n",
      "torch.Size([128, 784])\n",
      "torch.Size([128, 784])\n",
      "torch.Size([128, 784])\n",
      "torch.Size([128, 784])\n",
      "torch.Size([128, 784])\n",
      "torch.Size([128, 784])\n",
      "torch.Size([128, 784])\n",
      "torch.Size([128, 784])\n",
      "torch.Size([128, 784])\n",
      "torch.Size([128, 784])\n",
      "torch.Size([128, 784])\n",
      "torch.Size([128, 784])\n",
      "torch.Size([128, 784])\n",
      "torch.Size([128, 784])\n",
      "torch.Size([128, 784])\n",
      "torch.Size([128, 784])\n",
      "torch.Size([128, 784])\n",
      "torch.Size([128, 784])\n",
      "torch.Size([128, 784])\n",
      "torch.Size([128, 784])\n",
      "torch.Size([128, 784])\n",
      "torch.Size([128, 784])\n",
      "torch.Size([128, 784])\n",
      "torch.Size([128, 784])\n",
      "torch.Size([128, 784])\n",
      "torch.Size([128, 784])\n",
      "torch.Size([128, 784])\n",
      "torch.Size([128, 784])\n",
      "torch.Size([128, 784])\n",
      "torch.Size([128, 784])\n",
      "torch.Size([128, 784])\n",
      "torch.Size([128, 784])\n",
      "torch.Size([80, 784])\n"
     ]
    }
   ],
   "source": [
    "for images,labels in train_loader :\n",
    "    images = images.reshape(images.shape[0],1*28*28)\n",
    "    print(images.shape)"
   ]
  },
  {
   "cell_type": "code",
   "execution_count": 268,
   "id": "62027763-8955-4276-bd3b-e258d65942c3",
   "metadata": {},
   "outputs": [
    {
     "name": "stdout",
     "output_type": "stream",
     "text": [
      "torch.Size([128, 784])\n",
      "torch.Size([128, 784])\n",
      "torch.Size([128, 784])\n",
      "torch.Size([128, 784])\n",
      "torch.Size([128, 784])\n",
      "torch.Size([128, 784])\n",
      "torch.Size([128, 784])\n",
      "torch.Size([128, 784])\n",
      "torch.Size([128, 784])\n",
      "torch.Size([128, 784])\n",
      "torch.Size([128, 784])\n",
      "torch.Size([128, 784])\n",
      "torch.Size([128, 784])\n",
      "torch.Size([128, 784])\n",
      "torch.Size([128, 784])\n",
      "torch.Size([128, 784])\n",
      "torch.Size([128, 784])\n",
      "torch.Size([128, 784])\n",
      "torch.Size([128, 784])\n",
      "torch.Size([128, 784])\n",
      "torch.Size([128, 784])\n",
      "torch.Size([128, 784])\n",
      "torch.Size([128, 784])\n",
      "torch.Size([128, 784])\n",
      "torch.Size([128, 784])\n",
      "torch.Size([128, 784])\n",
      "torch.Size([128, 784])\n",
      "torch.Size([128, 784])\n",
      "torch.Size([128, 784])\n",
      "torch.Size([128, 784])\n",
      "torch.Size([128, 784])\n",
      "torch.Size([128, 784])\n",
      "torch.Size([128, 784])\n",
      "torch.Size([128, 784])\n",
      "torch.Size([128, 784])\n",
      "torch.Size([128, 784])\n",
      "torch.Size([128, 784])\n",
      "torch.Size([128, 784])\n",
      "torch.Size([128, 784])\n",
      "torch.Size([128, 784])\n",
      "torch.Size([128, 784])\n",
      "torch.Size([128, 784])\n",
      "torch.Size([128, 784])\n",
      "torch.Size([128, 784])\n",
      "torch.Size([128, 784])\n",
      "torch.Size([128, 784])\n",
      "torch.Size([128, 784])\n",
      "torch.Size([128, 784])\n",
      "torch.Size([128, 784])\n",
      "torch.Size([128, 784])\n",
      "torch.Size([128, 784])\n",
      "torch.Size([128, 784])\n",
      "torch.Size([128, 784])\n",
      "torch.Size([128, 784])\n",
      "torch.Size([128, 784])\n",
      "torch.Size([128, 784])\n",
      "torch.Size([128, 784])\n",
      "torch.Size([128, 784])\n",
      "torch.Size([128, 784])\n",
      "torch.Size([128, 784])\n",
      "torch.Size([128, 784])\n",
      "torch.Size([128, 784])\n",
      "torch.Size([128, 784])\n",
      "torch.Size([128, 784])\n",
      "torch.Size([128, 784])\n",
      "torch.Size([128, 784])\n",
      "torch.Size([128, 784])\n",
      "torch.Size([128, 784])\n",
      "torch.Size([128, 784])\n",
      "torch.Size([128, 784])\n",
      "torch.Size([128, 784])\n",
      "torch.Size([128, 784])\n",
      "torch.Size([128, 784])\n",
      "torch.Size([128, 784])\n",
      "torch.Size([128, 784])\n",
      "torch.Size([128, 784])\n",
      "torch.Size([128, 784])\n",
      "torch.Size([128, 784])\n",
      "torch.Size([128, 784])\n",
      "torch.Size([128, 784])\n",
      "torch.Size([128, 784])\n",
      "torch.Size([128, 784])\n",
      "torch.Size([128, 784])\n",
      "torch.Size([128, 784])\n",
      "torch.Size([128, 784])\n",
      "torch.Size([128, 784])\n",
      "torch.Size([128, 784])\n",
      "torch.Size([128, 784])\n",
      "torch.Size([128, 784])\n",
      "torch.Size([128, 784])\n",
      "torch.Size([128, 784])\n",
      "torch.Size([128, 784])\n",
      "torch.Size([128, 784])\n",
      "torch.Size([128, 784])\n",
      "torch.Size([128, 784])\n",
      "torch.Size([128, 784])\n",
      "torch.Size([128, 784])\n",
      "torch.Size([128, 784])\n",
      "torch.Size([128, 784])\n",
      "torch.Size([128, 784])\n",
      "torch.Size([128, 784])\n",
      "torch.Size([128, 784])\n",
      "torch.Size([128, 784])\n",
      "torch.Size([128, 784])\n",
      "torch.Size([128, 784])\n",
      "torch.Size([128, 784])\n",
      "torch.Size([128, 784])\n",
      "torch.Size([128, 784])\n",
      "torch.Size([128, 784])\n",
      "torch.Size([128, 784])\n",
      "torch.Size([128, 784])\n",
      "torch.Size([128, 784])\n",
      "torch.Size([128, 784])\n",
      "torch.Size([128, 784])\n",
      "torch.Size([128, 784])\n",
      "torch.Size([128, 784])\n",
      "torch.Size([128, 784])\n",
      "torch.Size([128, 784])\n",
      "torch.Size([128, 784])\n",
      "torch.Size([128, 784])\n",
      "torch.Size([128, 784])\n",
      "torch.Size([128, 784])\n",
      "torch.Size([128, 784])\n",
      "torch.Size([128, 784])\n",
      "torch.Size([128, 784])\n",
      "torch.Size([128, 784])\n",
      "torch.Size([128, 784])\n",
      "torch.Size([128, 784])\n",
      "torch.Size([128, 784])\n",
      "torch.Size([128, 784])\n",
      "torch.Size([128, 784])\n",
      "torch.Size([128, 784])\n",
      "torch.Size([128, 784])\n",
      "torch.Size([128, 784])\n",
      "torch.Size([128, 784])\n",
      "torch.Size([128, 784])\n",
      "torch.Size([128, 784])\n",
      "torch.Size([128, 784])\n",
      "torch.Size([128, 784])\n",
      "torch.Size([128, 784])\n",
      "torch.Size([128, 784])\n",
      "torch.Size([128, 784])\n",
      "torch.Size([128, 784])\n",
      "torch.Size([128, 784])\n",
      "torch.Size([128, 784])\n",
      "torch.Size([128, 784])\n",
      "torch.Size([128, 784])\n",
      "torch.Size([128, 784])\n",
      "torch.Size([128, 784])\n",
      "torch.Size([128, 784])\n",
      "torch.Size([128, 784])\n",
      "torch.Size([128, 784])\n",
      "torch.Size([128, 784])\n",
      "torch.Size([128, 784])\n",
      "torch.Size([128, 784])\n",
      "torch.Size([128, 784])\n",
      "torch.Size([128, 784])\n",
      "torch.Size([128, 784])\n",
      "torch.Size([128, 784])\n",
      "torch.Size([128, 784])\n",
      "torch.Size([128, 784])\n",
      "torch.Size([128, 784])\n",
      "torch.Size([128, 784])\n",
      "torch.Size([128, 784])\n",
      "torch.Size([128, 784])\n",
      "torch.Size([128, 784])\n",
      "torch.Size([128, 784])\n",
      "torch.Size([128, 784])\n",
      "torch.Size([128, 784])\n",
      "torch.Size([128, 784])\n",
      "torch.Size([128, 784])\n",
      "torch.Size([128, 784])\n",
      "torch.Size([128, 784])\n",
      "torch.Size([128, 784])\n",
      "torch.Size([128, 784])\n",
      "torch.Size([128, 784])\n",
      "torch.Size([128, 784])\n",
      "torch.Size([128, 784])\n",
      "torch.Size([128, 784])\n",
      "torch.Size([128, 784])\n",
      "torch.Size([128, 784])\n",
      "torch.Size([128, 784])\n",
      "torch.Size([128, 784])\n",
      "torch.Size([128, 784])\n",
      "torch.Size([128, 784])\n",
      "torch.Size([128, 784])\n",
      "torch.Size([128, 784])\n",
      "torch.Size([128, 784])\n",
      "torch.Size([128, 784])\n",
      "torch.Size([128, 784])\n",
      "torch.Size([128, 784])\n",
      "torch.Size([128, 784])\n",
      "torch.Size([128, 784])\n",
      "torch.Size([128, 784])\n",
      "torch.Size([128, 784])\n",
      "torch.Size([128, 784])\n",
      "torch.Size([128, 784])\n",
      "torch.Size([128, 784])\n",
      "torch.Size([128, 784])\n",
      "torch.Size([128, 784])\n",
      "torch.Size([128, 784])\n",
      "torch.Size([128, 784])\n",
      "torch.Size([128, 784])\n",
      "torch.Size([128, 784])\n",
      "torch.Size([128, 784])\n",
      "torch.Size([128, 784])\n",
      "torch.Size([128, 784])\n",
      "torch.Size([128, 784])\n",
      "torch.Size([128, 784])\n",
      "torch.Size([128, 784])\n",
      "torch.Size([128, 784])\n",
      "torch.Size([128, 784])\n",
      "torch.Size([128, 784])\n",
      "torch.Size([128, 784])\n",
      "torch.Size([128, 784])\n",
      "torch.Size([128, 784])\n",
      "torch.Size([128, 784])\n",
      "torch.Size([128, 784])\n",
      "torch.Size([128, 784])\n",
      "torch.Size([128, 784])\n",
      "torch.Size([128, 784])\n",
      "torch.Size([128, 784])\n",
      "torch.Size([128, 784])\n",
      "torch.Size([128, 784])\n",
      "torch.Size([128, 784])\n",
      "torch.Size([128, 784])\n",
      "torch.Size([128, 784])\n",
      "torch.Size([128, 784])\n",
      "torch.Size([128, 784])\n",
      "torch.Size([128, 784])\n",
      "torch.Size([128, 784])\n",
      "torch.Size([128, 784])\n",
      "torch.Size([128, 784])\n",
      "torch.Size([128, 784])\n",
      "torch.Size([128, 784])\n",
      "torch.Size([128, 784])\n",
      "torch.Size([128, 784])\n",
      "torch.Size([128, 784])\n",
      "torch.Size([128, 784])\n",
      "torch.Size([128, 784])\n",
      "torch.Size([128, 784])\n",
      "torch.Size([128, 784])\n",
      "torch.Size([128, 784])\n",
      "torch.Size([128, 784])\n",
      "torch.Size([128, 784])\n",
      "torch.Size([128, 784])\n",
      "torch.Size([128, 784])\n",
      "torch.Size([128, 784])\n",
      "torch.Size([128, 784])\n",
      "torch.Size([128, 784])\n",
      "torch.Size([128, 784])\n",
      "torch.Size([128, 784])\n",
      "torch.Size([128, 784])\n",
      "torch.Size([128, 784])\n",
      "torch.Size([128, 784])\n",
      "torch.Size([128, 784])\n",
      "torch.Size([128, 784])\n",
      "torch.Size([128, 784])\n",
      "torch.Size([128, 784])\n",
      "torch.Size([128, 784])\n",
      "torch.Size([128, 784])\n",
      "torch.Size([128, 784])\n",
      "torch.Size([128, 784])\n",
      "torch.Size([128, 784])\n",
      "torch.Size([128, 784])\n",
      "torch.Size([128, 784])\n",
      "torch.Size([128, 784])\n",
      "torch.Size([128, 784])\n",
      "torch.Size([128, 784])\n",
      "torch.Size([128, 784])\n",
      "torch.Size([128, 784])\n",
      "torch.Size([128, 784])\n",
      "torch.Size([128, 784])\n",
      "torch.Size([128, 784])\n",
      "torch.Size([128, 784])\n",
      "torch.Size([128, 784])\n",
      "torch.Size([128, 784])\n",
      "torch.Size([128, 784])\n",
      "torch.Size([128, 784])\n",
      "torch.Size([128, 784])\n",
      "torch.Size([128, 784])\n",
      "torch.Size([128, 784])\n",
      "torch.Size([128, 784])\n",
      "torch.Size([128, 784])\n",
      "torch.Size([128, 784])\n",
      "torch.Size([128, 784])\n",
      "torch.Size([128, 784])\n",
      "torch.Size([128, 784])\n",
      "torch.Size([128, 784])\n",
      "torch.Size([128, 784])\n",
      "torch.Size([128, 784])\n",
      "torch.Size([128, 784])\n",
      "torch.Size([128, 784])\n",
      "torch.Size([128, 784])\n",
      "torch.Size([128, 784])\n",
      "torch.Size([128, 784])\n",
      "torch.Size([128, 784])\n",
      "torch.Size([128, 784])\n",
      "torch.Size([128, 784])\n",
      "torch.Size([128, 784])\n",
      "torch.Size([128, 784])\n",
      "torch.Size([128, 784])\n",
      "torch.Size([128, 784])\n",
      "torch.Size([128, 784])\n",
      "torch.Size([128, 784])\n",
      "torch.Size([128, 784])\n",
      "torch.Size([128, 784])\n",
      "torch.Size([128, 784])\n",
      "torch.Size([128, 784])\n",
      "torch.Size([128, 784])\n",
      "torch.Size([128, 784])\n",
      "torch.Size([128, 784])\n",
      "torch.Size([128, 784])\n",
      "torch.Size([128, 784])\n",
      "torch.Size([128, 784])\n",
      "torch.Size([128, 784])\n",
      "torch.Size([128, 784])\n",
      "torch.Size([128, 784])\n",
      "torch.Size([128, 784])\n",
      "torch.Size([128, 784])\n",
      "torch.Size([128, 784])\n",
      "torch.Size([128, 784])\n",
      "torch.Size([128, 784])\n",
      "torch.Size([128, 784])\n",
      "torch.Size([128, 784])\n",
      "torch.Size([128, 784])\n",
      "torch.Size([128, 784])\n",
      "torch.Size([128, 784])\n",
      "torch.Size([128, 784])\n",
      "torch.Size([128, 784])\n",
      "torch.Size([128, 784])\n",
      "torch.Size([128, 784])\n",
      "torch.Size([128, 784])\n",
      "torch.Size([128, 784])\n",
      "torch.Size([128, 784])\n",
      "torch.Size([128, 784])\n",
      "torch.Size([128, 784])\n",
      "torch.Size([128, 784])\n",
      "torch.Size([128, 784])\n",
      "torch.Size([128, 784])\n",
      "torch.Size([128, 784])\n",
      "torch.Size([128, 784])\n",
      "torch.Size([128, 784])\n",
      "torch.Size([128, 784])\n",
      "torch.Size([128, 784])\n",
      "torch.Size([128, 784])\n",
      "torch.Size([128, 784])\n",
      "torch.Size([128, 784])\n",
      "torch.Size([128, 784])\n",
      "torch.Size([128, 784])\n",
      "torch.Size([128, 784])\n",
      "torch.Size([128, 784])\n",
      "torch.Size([128, 784])\n",
      "torch.Size([128, 784])\n",
      "torch.Size([128, 784])\n",
      "torch.Size([128, 784])\n",
      "torch.Size([128, 784])\n",
      "torch.Size([128, 784])\n",
      "torch.Size([128, 784])\n",
      "torch.Size([128, 784])\n",
      "torch.Size([128, 784])\n",
      "torch.Size([128, 784])\n",
      "torch.Size([128, 784])\n",
      "torch.Size([128, 784])\n",
      "torch.Size([128, 784])\n",
      "torch.Size([128, 784])\n",
      "torch.Size([128, 784])\n",
      "torch.Size([128, 784])\n",
      "torch.Size([128, 784])\n",
      "torch.Size([128, 784])\n",
      "torch.Size([128, 784])\n",
      "torch.Size([128, 784])\n",
      "torch.Size([128, 784])\n",
      "torch.Size([128, 784])\n",
      "torch.Size([128, 784])\n",
      "torch.Size([128, 784])\n",
      "torch.Size([128, 784])\n",
      "torch.Size([128, 784])\n",
      "torch.Size([128, 784])\n",
      "torch.Size([128, 784])\n",
      "torch.Size([128, 784])\n",
      "torch.Size([128, 784])\n",
      "torch.Size([128, 784])\n",
      "torch.Size([128, 784])\n",
      "torch.Size([128, 784])\n",
      "torch.Size([128, 784])\n",
      "torch.Size([128, 784])\n",
      "torch.Size([128, 784])\n",
      "torch.Size([128, 784])\n",
      "torch.Size([128, 784])\n",
      "torch.Size([80, 784])\n"
     ]
    }
   ],
   "source": [
    "for images,labels in train_loader :\n",
    "    images = images.reshape(-1,1*28*28)\n",
    "    print(images.shape)"
   ]
  },
  {
   "cell_type": "code",
   "execution_count": 269,
   "id": "88acfba4-9a96-4fc4-99ce-766138e1b49a",
   "metadata": {},
   "outputs": [],
   "source": [
    "class MNISTModel(nn.Module ):\n",
    "    def __init__(self, input_size,classes):\n",
    "        super().__init__()\n",
    "        self.linear = nn.Linear(input_size,classes)\n",
    "        \n",
    "        \n",
    "    def forward(self,xb):\n",
    "        xb = xb.reshape(-1,1*28*28)\n",
    "        xb = self.linear(xb)\n",
    "        return xb\n",
    "\n",
    "\n",
    "        "
   ]
  },
  {
   "cell_type": "code",
   "execution_count": 270,
   "id": "d17c3b2c-6575-4578-9b5d-4a97e522e630",
   "metadata": {},
   "outputs": [],
   "source": [
    "model = MNISTModel(input_size , num_classification)"
   ]
  },
  {
   "cell_type": "markdown",
   "id": "c5dd78ec-d431-464f-8fa8-d97a313bc804",
   "metadata": {},
   "source": [
    "### All the parameters will be combined into one parameters() call."
   ]
  },
  {
   "cell_type": "code",
   "execution_count": 271,
   "id": "033055c7-47f8-40ff-91f1-a6a4889c5b57",
   "metadata": {},
   "outputs": [
    {
     "name": "stdout",
     "output_type": "stream",
     "text": [
      "<generator object Module.parameters at 0x000001D04DAB7060>\n"
     ]
    }
   ],
   "source": [
    "print(model.parameters())"
   ]
  },
  {
   "cell_type": "code",
   "execution_count": 272,
   "id": "8fe25158-1284-45ce-8c7a-2ee28671e085",
   "metadata": {},
   "outputs": [
    {
     "name": "stdout",
     "output_type": "stream",
     "text": [
      "torch.Size([128, 1, 28, 28])\n",
      "torch.Size([128, 10])\n",
      "tensor([ 0.1421,  0.2071,  0.1974,  0.0309, -0.0534,  0.0155,  0.0817, -0.1853,\n",
      "        -0.3121, -0.0561], grad_fn=<SelectBackward0>)\n"
     ]
    }
   ],
   "source": [
    "for images,labels in train_loader :\n",
    "    output = model(images)\n",
    "    print(images.shape)\n",
    "    print(output.shape)\n",
    "    print(output[0])\n",
    "   \n",
    "    break"
   ]
  },
  {
   "cell_type": "markdown",
   "id": "41bb8854-5287-444d-aebc-c8a4448450be",
   "metadata": {},
   "source": [
    "We have to make sure that the sum of probabilities are one as it represent the chance of the digit , so we will be using softmax function"
   ]
  },
  {
   "cell_type": "code",
   "execution_count": 273,
   "id": "30cfc379-4f18-4f8d-9640-135602801ccf",
   "metadata": {},
   "outputs": [
    {
     "data": {
      "text/plain": [
       "(torch.Size([128, 10]),\n",
       " tensor([[ 0.1421,  0.2071,  0.1974,  ..., -0.1853, -0.3121, -0.0561],\n",
       "         [-0.3179,  0.1461,  0.0100,  ...,  0.0212, -0.2455, -0.2965],\n",
       "         [-0.0781,  0.0749, -0.0200,  ...,  0.1319, -0.1920, -0.2408],\n",
       "         ...,\n",
       "         [-0.2720,  0.0490,  0.3456,  ...,  0.0206, -0.0463, -0.0583],\n",
       "         [-0.2608, -0.0077,  0.1349,  ..., -0.2303, -0.2627,  0.0610],\n",
       "         [-0.0442,  0.1337,  0.3160,  ..., -0.2508, -0.0768, -0.2842]],\n",
       "        grad_fn=<AddmmBackward0>))"
      ]
     },
     "execution_count": 273,
     "metadata": {},
     "output_type": "execute_result"
    }
   ],
   "source": [
    "output.shape,output"
   ]
  },
  {
   "cell_type": "markdown",
   "id": "edcedd30-7c21-4840-8bbb-4bc4c4e8f465",
   "metadata": {},
   "source": [
    "Current sum is not 1 and it contains 128 rows and 10 cols."
   ]
  },
  {
   "attachments": {
    "ecf87611-2f5c-4155-a801-ba981a439c6b.png": {
     "image/png": "[encoded data removed]"
    }
   },
   "cell_type": "markdown",
   "id": "c273226e-dadf-4f35-8b3b-e57ab4b1d1d9",
   "metadata": {},
   "source": [
    "![image.png](attachment:ecf87611-2f5c-4155-a801-ba981a439c6b.png)\n"
   ]
  },
  {
   "cell_type": "code",
   "execution_count": 274,
   "id": "a56f64d5-4644-4a1a-9c39-f6570ee19de5",
   "metadata": {},
   "outputs": [
    {
     "data": {
      "text/plain": [
       "tensor(1.0000, grad_fn=<SumBackward0>)"
      ]
     },
     "execution_count": 274,
     "metadata": {},
     "output_type": "execute_result"
    }
   ],
   "source": [
    " torch.sum(F.softmax(output[0],dim=0))"
   ]
  },
  {
   "cell_type": "markdown",
   "id": "fe280e49-f9ee-4f5a-93f6-38bfe8711641",
   "metadata": {},
   "source": [
    "Current sum is 1 now "
   ]
  },
  {
   "cell_type": "code",
   "execution_count": 275,
   "id": "22a51ba3-c263-4194-af5d-bdfcc784da92",
   "metadata": {},
   "outputs": [
    {
     "data": {
      "text/plain": [
       "(tensor(10., grad_fn=<SumBackward0>), tensor(128., grad_fn=<SumBackward0>))"
      ]
     },
     "execution_count": 275,
     "metadata": {},
     "output_type": "execute_result"
    }
   ],
   "source": [
    "dim0 = torch.sum(F.softmax(output,dim=0))\n",
    "dim1 = torch.sum(F.softmax(output,dim=1))\n",
    "dim0 , dim1"
   ]
  },
  {
   "cell_type": "markdown",
   "id": "7b5f6d3f-2b6d-486e-bc4c-1a182e6cf4d0",
   "metadata": {},
   "source": [
    "Shape of the tensor is 128  x 10 , so if we use dim 0 , then it will use the 128 dimention and make the value as 1 and there will be 10 values and hence the sum is 10 , and if we use dimention 1 and it will work on dimention which holds 10 values and make the sum as 1 and hence 128 values and this is what we need"
   ]
  },
  {
   "cell_type": "code",
   "execution_count": 276,
   "id": "4c9c04ee-2aa7-4a24-8aa7-56c4ca9683fd",
   "metadata": {},
   "outputs": [
    {
     "data": {
      "text/plain": [
       "(tensor([[0.1131, 0.1207, 0.1196,  ..., 0.0815, 0.0718, 0.0928],\n",
       "         [0.0775, 0.1233, 0.1076,  ..., 0.1089, 0.0834, 0.0792],\n",
       "         [0.0925, 0.1078, 0.0980,  ..., 0.1141, 0.0825, 0.0786],\n",
       "         ...,\n",
       "         [0.0798, 0.1100, 0.1479,  ..., 0.1069, 0.1000, 0.0988],\n",
       "         [0.0810, 0.1044, 0.1204,  ..., 0.0836, 0.0809, 0.1118],\n",
       "         [0.0930, 0.1111, 0.1333,  ..., 0.0756, 0.0900, 0.0731]],\n",
       "        grad_fn=<SoftmaxBackward0>),\n",
       " tensor(1.0000, grad_fn=<SumBackward0>),\n",
       " 0.9999999403953552)"
      ]
     },
     "execution_count": 276,
     "metadata": {},
     "output_type": "execute_result"
    }
   ],
   "source": [
    "probabities = F.softmax(output,dim=1)\n",
    "probabities,torch.sum(probabities[0]),torch.sum(probabities[0]).item()"
   ]
  },
  {
   "cell_type": "code",
   "execution_count": 277,
   "id": "87314be1-4531-4c61-8e6f-6fb65c3e9cad",
   "metadata": {},
   "outputs": [
    {
     "data": {
      "text/plain": [
       "torch.Size([128, 10])"
      ]
     },
     "execution_count": 277,
     "metadata": {},
     "output_type": "execute_result"
    }
   ],
   "source": [
    "probabities.shape"
   ]
  },
  {
   "cell_type": "markdown",
   "id": "5ac9dc5b-62d0-4aeb-a89a-d288b7331a31",
   "metadata": {},
   "source": [
    "### Each col define the weights for the one item in the batch"
   ]
  },
  {
   "cell_type": "code",
   "execution_count": 278,
   "id": "cb4d7c01-7c51-47f7-9870-9f8621d04fb9",
   "metadata": {},
   "outputs": [
    {
     "data": {
      "text/plain": [
       "(tensor([0.1207, 0.1240, 0.1278, 0.1396, 0.1639, 0.1747, 0.1590, 0.1202, 0.1591,\n",
       "         0.1313, 0.1357, 0.1251, 0.1378, 0.1384, 0.1283, 0.1276, 0.1233, 0.1315,\n",
       "         0.1439, 0.1459, 0.1491, 0.1193, 0.1461, 0.1602, 0.1350, 0.2000, 0.1243,\n",
       "         0.1276, 0.1447, 0.1236, 0.1202, 0.1573, 0.1570, 0.1474, 0.1463, 0.1515,\n",
       "         0.1239, 0.1431, 0.1255, 0.1348, 0.1595, 0.1350, 0.1294, 0.1154, 0.1663,\n",
       "         0.1388, 0.1558, 0.1136, 0.1361, 0.1306, 0.1440, 0.1265, 0.1242, 0.1158,\n",
       "         0.1578, 0.1205, 0.1700, 0.1409, 0.1474, 0.1285, 0.1430, 0.1320, 0.1236,\n",
       "         0.1243, 0.1429, 0.1514, 0.1306, 0.1386, 0.1149, 0.1296, 0.1359, 0.1660,\n",
       "         0.1397, 0.1508, 0.1576, 0.1257, 0.1568, 0.1409, 0.1341, 0.1466, 0.1133,\n",
       "         0.1308, 0.1281, 0.1494, 0.1308, 0.1463, 0.1293, 0.1174, 0.1513, 0.1390,\n",
       "         0.1495, 0.1472, 0.1177, 0.1125, 0.1281, 0.1457, 0.1527, 0.1488, 0.1485,\n",
       "         0.1433, 0.1303, 0.1517, 0.1258, 0.1217, 0.1313, 0.1333, 0.1165, 0.1282,\n",
       "         0.1253, 0.1140, 0.1251, 0.1515, 0.1424, 0.1419, 0.1348, 0.1302, 0.1240,\n",
       "         0.1296, 0.1216, 0.1588, 0.1372, 0.1301, 0.1375, 0.1331, 0.1340, 0.1479,\n",
       "         0.1204, 0.1401], grad_fn=<MaxBackward0>),\n",
       " tensor([1, 3, 3, 1, 6, 1, 6, 0, 2, 2, 3, 0, 2, 2, 1, 1, 7, 1, 2, 2, 1, 0, 3, 2,\n",
       "         6, 2, 1, 7, 2, 7, 2, 1, 2, 1, 2, 6, 3, 7, 1, 2, 2, 2, 1, 8, 3, 2, 2, 0,\n",
       "         2, 2, 7, 1, 1, 3, 1, 1, 1, 3, 3, 0, 2, 2, 1, 1, 2, 2, 6, 2, 2, 7, 2, 1,\n",
       "         1, 3, 6, 0, 2, 2, 2, 1, 8, 2, 1, 2, 2, 1, 2, 2, 6, 2, 2, 1, 1, 3, 1, 1,\n",
       "         1, 2, 0, 3, 2, 1, 1, 2, 2, 1, 2, 1, 2, 2, 2, 2, 1, 2, 1, 2, 2, 2, 3, 1,\n",
       "         1, 1, 1, 4, 2, 2, 2, 6]))"
      ]
     },
     "execution_count": 278,
     "metadata": {},
     "output_type": "execute_result"
    }
   ],
   "source": [
    "max_prob , prediction = torch.max(probabities,dim=1)\n",
    "max_prob , prediction"
   ]
  },
  {
   "cell_type": "code",
   "execution_count": 279,
   "id": "527aaed5-4208-401b-8683-397b5aec7692",
   "metadata": {},
   "outputs": [
    {
     "data": {
      "text/plain": [
       "tensor([5, 8, 4, 7, 0, 4, 5, 1, 3, 6, 6, 1, 9, 8, 6, 7, 2, 7, 7, 7, 7, 1, 5, 5,\n",
       "        5, 3, 8, 2, 3, 8, 5, 8, 9, 8, 3, 0, 6, 2, 5, 9, 4, 3, 7, 7, 0, 6, 7, 7,\n",
       "        1, 4, 6, 7, 6, 9, 6, 7, 2, 5, 8, 3, 4, 9, 3, 7, 1, 3, 1, 2, 1, 1, 6, 2,\n",
       "        8, 2, 0, 1, 2, 1, 9, 6, 1, 7, 7, 7, 1, 2, 7, 0, 0, 4, 4, 6, 5, 1, 8, 6,\n",
       "        6, 4, 6, 0, 4, 8, 2, 9, 7, 7, 1, 9, 6, 1, 9, 4, 6, 8, 6, 1, 1, 4, 5, 2,\n",
       "        2, 4, 2, 7, 1, 4, 5, 3])"
      ]
     },
     "execution_count": 279,
     "metadata": {},
     "output_type": "execute_result"
    }
   ],
   "source": [
    "labels"
   ]
  },
  {
   "cell_type": "code",
   "execution_count": 280,
   "id": "3464e4c1-52a7-4822-87ac-06631ef15559",
   "metadata": {},
   "outputs": [
    {
     "data": {
      "text/plain": [
       "tensor(2)"
      ]
     },
     "execution_count": 280,
     "metadata": {},
     "output_type": "execute_result"
    }
   ],
   "source": [
    "torch.sum(labels == prediction)"
   ]
  },
  {
   "cell_type": "code",
   "execution_count": 281,
   "id": "0e9df05f-d12c-4fc5-a346-321065b43a19",
   "metadata": {},
   "outputs": [
    {
     "data": {
      "text/plain": [
       "tensor(0.0156)"
      ]
     },
     "execution_count": 281,
     "metadata": {},
     "output_type": "execute_result"
    }
   ],
   "source": [
    "torch.sum(labels == prediction)/ labels.numel()"
   ]
  },
  {
   "cell_type": "code",
   "execution_count": 282,
   "id": "bf57f1dd-83c5-4a34-9362-6572772579ed",
   "metadata": {},
   "outputs": [],
   "source": [
    "def accuracy(outputs , label):\n",
    "    probabilities,prediction = torch.max(outputs,dim=1)\n",
    "    return torch.sum(labels == prediction) / labels.numel()"
   ]
  },
  {
   "cell_type": "markdown",
   "id": "382fb3c4-4cfe-45d5-b121-7a849719910a",
   "metadata": {},
   "source": [
    "We are not sending the output of sofmax method as it will not change the output , if an item is high , it will remain high no matter what. its an optimization."
   ]
  },
  {
   "cell_type": "code",
   "execution_count": 283,
   "id": "77f94ba8-02b9-42ec-a6fe-1b86a8b07872",
   "metadata": {},
   "outputs": [
    {
     "data": {
      "text/plain": [
       "tensor(0.0156)"
      ]
     },
     "execution_count": 283,
     "metadata": {},
     "output_type": "execute_result"
    }
   ],
   "source": [
    "accuracy(output,labels)"
   ]
  },
  {
   "attachments": {
    "d355b8ff-cb64-457f-825e-75afe3ae4adc.png": {
     "image/png": "[encoded data removed]"
    }
   },
   "cell_type": "markdown",
   "id": "8ef977de-635f-4891-9849-ed123f496285",
   "metadata": {},
   "source": [
    "For Loss function we use cross entropy , as out probablities are between 0-1  , then we just take Log of that value , Log always increase exponentially when going below 1 and go to - infinity when going to 0 , to make the loss positive we multiply the value by -1\n",
    "\n",
    "![image.png](attachment:d355b8ff-cb64-457f-825e-75afe3ae4adc.png)\n"
   ]
  },
  {
   "cell_type": "code",
   "execution_count": 284,
   "id": "b12a893f-6288-404f-8573-f57a01a90e98",
   "metadata": {},
   "outputs": [],
   "source": [
    "loss_func = F.cross_entropy"
   ]
  },
  {
   "cell_type": "code",
   "execution_count": 285,
   "id": "6ffd0c6d-d411-4381-acb4-07e03f3eb9c2",
   "metadata": {},
   "outputs": [
    {
     "data": {
      "text/plain": [
       "tensor(2.2883, grad_fn=<NllLossBackward0>)"
      ]
     },
     "execution_count": 285,
     "metadata": {},
     "output_type": "execute_result"
    }
   ],
   "source": [
    "loss = loss_func(output,labels)\n",
    "loss"
   ]
  },
  {
   "cell_type": "markdown",
   "id": "f2ad30e4-4392-4fab-a173-dd65e5a6cfe8",
   "metadata": {},
   "source": [
    "F.cross_entropy , also does the softmax and then apply cross entropy  , so we dont have to do the softmax."
   ]
  },
  {
   "cell_type": "code",
   "execution_count": 299,
   "id": "be36dca4-4005-4650-a635-d085b4e18ade",
   "metadata": {},
   "outputs": [],
   "source": [
    "def fit(epochs , lr , model , train_loader , val_loader , opt_func = torch.optim.SGD):\n",
    "    optimizer = opt_func(model.parameters(),lr)\n",
    "    history = []\n",
    "    for epoch in range(epochs):\n",
    "\n",
    "        for batch in train_loader:\n",
    "            loss = model.training_step(batch)\n",
    "            loss.backward()\n",
    "            optimizer.step()\n",
    "            optimizer.zero_grad()\n",
    "\n",
    "        \n",
    "        epoch_val_result = []\n",
    "        for val_batch in val_loader:\n",
    "            val_result = model.validation_step(val_batch)\n",
    "            epoch_val_result.append(val_result)\n",
    "               \n",
    "        epoch_end_val_result = model.validation_epoch_end(epoch_val_result)\n",
    "        model.epoch_end(epoch,epoch_end_val_result)\n",
    "        history.append(epoch_end_val_result)\n",
    "        \n",
    "    return history\n",
    "            \n",
    "\n",
    "            "
   ]
  },
  {
   "cell_type": "code",
   "execution_count": 300,
   "id": "73e98038-bba8-4b41-a00d-f8a7b1f36689",
   "metadata": {},
   "outputs": [],
   "source": [
    "class MNISTModel(nn.Module):\n",
    "    def __init__(self, input_size,classes):\n",
    "        super().__init__()\n",
    "        self.linear = nn.Linear(input_size,classes)\n",
    "        \n",
    "        \n",
    "    def forward(self,xb):\n",
    "        xb = xb.reshape(-1,1*28*28)\n",
    "        xb = self.linear(xb)\n",
    "        return xb\n",
    "\n",
    "    def training_step(self,batch):\n",
    "        images,labels = batch\n",
    "        output = self(images)\n",
    "        loss = F.cross_entropy(output,labels)\n",
    "        return loss\n",
    "\n",
    "    def validation_step(self,batch):\n",
    "        images,labels = batch\n",
    "        output = self(images)\n",
    "        loss = F.cross_entropy(output,labels)\n",
    "       # print(output.shape)\n",
    "       # print(labels)\n",
    "        \n",
    "        acc = self.accuracy(output , labels)\n",
    "        return {'val_loss' : loss , \"val_acc\" : acc}\n",
    "        \n",
    "\n",
    "    def validation_epoch_end(self , output):\n",
    "        batch_losses = [x['val_loss'] for x in output]\n",
    "        batch_accuracy = [x['val_acc'] for x in output]\n",
    "        epoch_loss = torch.stack(batch_losses).mean()\n",
    "        epoch_accuracy = torch.stack(batch_accuracy).mean()\n",
    "        return {'epoch_val_loss' : epoch_loss.item() , 'epoch_val_accuracy' : epoch_accuracy.item()}\n",
    "\n",
    "    def epoch_end(self , epoch , result):\n",
    "        print('Epoch ' + str(epoch) +  ' Validation Loss : ' + str(result['epoch_val_loss']) + ' Validation Accuracy' + str(result['epoch_val_accuracy']) + \"\\n\")\n",
    "\n",
    "    def accuracy(self,outputs , label):\n",
    "        probabilities,prediction = torch.max(outputs,dim=1)\n",
    "        return torch.sum(label == prediction) / label.numel()\n",
    "            \n",
    "        \n",
    "    "
   ]
  },
  {
   "cell_type": "code",
   "execution_count": 301,
   "id": "4fec0d07-2ddd-414f-8891-327a10494b5d",
   "metadata": {},
   "outputs": [],
   "source": [
    "model = MNISTModel(input_size , num_classification)"
   ]
  },
  {
   "cell_type": "code",
   "execution_count": 302,
   "id": "4647de4d-794e-4cfc-9a62-3d563b892fa4",
   "metadata": {},
   "outputs": [
    {
     "name": "stdout",
     "output_type": "stream",
     "text": [
      "Epoch 0 Validation Loss : 1.9490487575531006 Validation Accuracy0.5994857549667358\n",
      "\n",
      "Epoch 1 Validation Loss : 1.6799039840698242 Validation Accuracy0.7067840099334717\n",
      "\n",
      "Epoch 2 Validation Loss : 1.479264497756958 Validation Accuracy0.7487143874168396\n",
      "\n",
      "Epoch 3 Validation Loss : 1.3283902406692505 Validation Accuracy0.7700751423835754\n",
      "\n"
     ]
    }
   ],
   "source": [
    "history =  fit(4,0.001,model,train_loader,validation_loader)"
   ]
  },
  {
   "cell_type": "code",
   "execution_count": 308,
   "id": "6954cbdc-2ef3-487e-ba3d-12aa25e2e357",
   "metadata": {},
   "outputs": [
    {
     "name": "stdout",
     "output_type": "stream",
     "text": [
      "{'epoch_val_loss': 1.9490487575531006, 'epoch_val_accuracy': 0.5994857549667358}\n",
      "{'epoch_val_loss': 1.6799039840698242, 'epoch_val_accuracy': 0.7067840099334717}\n",
      "{'epoch_val_loss': 1.479264497756958, 'epoch_val_accuracy': 0.7487143874168396}\n",
      "{'epoch_val_loss': 1.3283902406692505, 'epoch_val_accuracy': 0.7700751423835754}\n",
      "[0.5994857549667358, 0.7067840099334717, 0.7487143874168396, 0.7700751423835754]\n"
     ]
    },
    {
     "data": {
      "text/plain": [
       "Text(0, 0.5, 'accuracy')"
      ]
     },
     "execution_count": 308,
     "metadata": {},
     "output_type": "execute_result"
    },
    {
     "data": {
      "image/png": "[encoded data removed]",
      "text/plain": [
       "<Figure size 640x480 with 1 Axes>"
      ]
     },
     "metadata": {},
     "output_type": "display_data"
    }
   ],
   "source": [
    "for each_epoch_result in history:\n",
    "    print(each_epoch_result)\n",
    "accuracies = [each_epoch_result['epoch_val_accuracy']for each_epoch_result in history]\n",
    "print(accuracies)\n",
    "plt.plot(accuracies,'-x')\n",
    "plt.xlabel('epoch')\n",
    "plt.ylabel('accuracy')\n"
   ]
  },
  {
   "cell_type": "code",
   "execution_count": null,
   "id": "6832f5bb-cba8-4848-bbe5-b8016f604686",
   "metadata": {},
   "outputs": [],
   "source": [
    "\n",
    "\n",
    "\n",
    "\n"
   ]
  }
 ],
 "metadata": {
  "kernelspec": {
   "display_name": "Python 3 (ipykernel)",
   "language": "python",
   "name": "python3"
  },
  "language_info": {
   "codemirror_mode": {
    "name": "ipython",
    "version": 3
   },
   "file_extension": ".py",
   "mimetype": "text/x-python",
   "name": "python",
   "nbconvert_exporter": "python",
   "pygments_lexer": "ipython3",
   "version": "3.12.3"
  }
 },
 "nbformat": 4,
 "nbformat_minor": 5
}
