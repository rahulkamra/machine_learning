{
 "cells": [
  {
   "cell_type": "code",
   "execution_count": 54,
   "id": "6a4145b4-21d6-4762-90d9-848d25566694",
   "metadata": {},
   "outputs": [],
   "source": [
    "import torch"
   ]
  },
  {
   "cell_type": "code",
   "execution_count": null,
   "id": "0ba7b13a-b933-47a8-99b2-e3f5d1eb49ac",
   "metadata": {},
   "outputs": [],
   "source": []
  },
  {
   "cell_type": "code",
   "execution_count": 55,
   "id": "57b665f6-ae8b-48cb-b2b4-8dfb11d7c06b",
   "metadata": {},
   "outputs": [],
   "source": [
    "x = torch.tensor(3.)\n",
    "w = torch.tensor(4.,requires_grad=True)\n",
    "b = torch.tensor(5.,requires_grad=True)"
   ]
  },
  {
   "cell_type": "code",
   "execution_count": 56,
   "id": "4d1ed8f4-29db-45ce-a1b8-21868389e368",
   "metadata": {},
   "outputs": [
    {
     "data": {
      "text/plain": [
       "(tensor(3.), tensor(4., requires_grad=True), tensor(5., requires_grad=True))"
      ]
     },
     "execution_count": 56,
     "metadata": {},
     "output_type": "execute_result"
    }
   ],
   "source": [
    "x,w,b"
   ]
  },
  {
   "cell_type": "code",
   "execution_count": 57,
   "id": "b677cb72-b87b-4cea-b880-b483098f26e3",
   "metadata": {},
   "outputs": [],
   "source": [
    "y = w * x + b"
   ]
  },
  {
   "cell_type": "code",
   "execution_count": 58,
   "id": "89720de6-5cf8-485a-a347-9915afab7715",
   "metadata": {},
   "outputs": [
    {
     "name": "stdout",
     "output_type": "stream",
     "text": [
      "tensor(17., grad_fn=<AddBackward0>)\n"
     ]
    }
   ],
   "source": [
    "print(y)"
   ]
  },
  {
   "cell_type": "markdown",
   "id": "111927d0-e4ed-4813-9837-4c9cbedf83d0",
   "metadata": {},
   "source": [
    "### in pytorch we can create the derivate of y automatically , this is called autograd\n",
    "\n",
    "derivative of y with w <br>\n",
    "dy/dw = d(wx)/d(w) + d(b)/d(w) <br>\n",
    "derivate of constants are zero <br>\n",
    "\n",
    "dy/dw = d(wx)/d(w) <br>\n",
    "x is a constant <br>\n",
    "dy/dw = x * d(w)/d(w) <br>\n",
    "dy/dw = x <br>\n",
    "\n",
    "\n",
    "dy/dx d(wx)/d(x) <br>\n",
    "\n"
   ]
  },
  {
   "cell_type": "code",
   "execution_count": 59,
   "id": "f660d72e-8b60-4b1e-b689-d38831c4f3ab",
   "metadata": {},
   "outputs": [],
   "source": [
    "dy = y.backward()"
   ]
  },
  {
   "cell_type": "markdown",
   "id": "7cf317f1-b8eb-4ebd-9aef-ffc01601257f",
   "metadata": {},
   "source": [
    "### it will create the derivate of y with each inputs\n",
    "1. it will create dy/dx\n",
    "2. it will create dy/dw\n",
    "3. it will create dy/db\n",
    "\n"
   ]
  },
  {
   "cell_type": "code",
   "execution_count": 60,
   "id": "5896ccd6-0089-436d-9171-6c20f114a0a2",
   "metadata": {},
   "outputs": [
    {
     "name": "stdout",
     "output_type": "stream",
     "text": [
      "None\n",
      "tensor(3.)\n",
      "tensor(1.)\n"
     ]
    }
   ],
   "source": [
    "print(x.grad)\n",
    "print(w.grad)\n",
    "print(b.grad)\n"
   ]
  },
  {
   "cell_type": "markdown",
   "id": "e8650c91-c09b-4966-9c65-0790e7c5c1cb",
   "metadata": {},
   "source": [
    "We havnt define the requires_grad to true for x , thats why its none. \n",
    "\n",
    "\n",
    "\n",
    "\n",
    "\n",
    "\n",
    "\n",
    "\n",
    "\n",
    "\n"
   ]
  },
  {
   "cell_type": "markdown",
   "id": "ab645792-c13a-4391-ac82-457cee724d42",
   "metadata": {},
   "source": [
    "<h1> Tensor Functions "
   ]
  },
  {
   "cell_type": "code",
   "execution_count": 63,
   "id": "2f5925d0-0d6d-4c1d-90c2-f8d8d133b6cc",
   "metadata": {},
   "outputs": [],
   "source": [
    "tfull = torch.full((3,2) , 42)"
   ]
  },
  {
   "cell_type": "code",
   "execution_count": 64,
   "id": "efc8e4a2-1207-4990-b726-37669014ba55",
   "metadata": {},
   "outputs": [
    {
     "data": {
      "text/plain": [
       "tensor([[42, 42],\n",
       "        [42, 42],\n",
       "        [42, 42]])"
      ]
     },
     "execution_count": 64,
     "metadata": {},
     "output_type": "execute_result"
    }
   ],
   "source": [
    "tfull"
   ]
  },
  {
   "cell_type": "code",
   "execution_count": 66,
   "id": "c0d961ed-cc11-4181-a1b8-44921a27ce55",
   "metadata": {},
   "outputs": [],
   "source": [
    "tnew = torch.full((3,2) , 21.)"
   ]
  },
  {
   "cell_type": "code",
   "execution_count": 67,
   "id": "dc76ab9f-e77a-4dbc-9978-e867fbed7987",
   "metadata": {},
   "outputs": [
    {
     "data": {
      "text/plain": [
       "tensor([[21., 21.],\n",
       "        [21., 21.],\n",
       "        [21., 21.]])"
      ]
     },
     "execution_count": 67,
     "metadata": {},
     "output_type": "execute_result"
    }
   ],
   "source": [
    "tnew"
   ]
  },
  {
   "cell_type": "code",
   "execution_count": 74,
   "id": "bf599405-dbde-47e2-b9b0-cef7ee570b4e",
   "metadata": {},
   "outputs": [
    {
     "name": "stdout",
     "output_type": "stream",
     "text": [
      "tensor([[21., 21.],\n",
      "        [21., 21.],\n",
      "        [21., 21.],\n",
      "        [42., 42.],\n",
      "        [42., 42.],\n",
      "        [42., 42.]])\n"
     ]
    }
   ],
   "source": [
    "t7 = torch.cat((tnew,tfull))\n",
    "print(t7)"
   ]
  },
  {
   "cell_type": "code",
   "execution_count": 81,
   "id": "506e1183-2cfe-42fc-8071-7ea4da4357cf",
   "metadata": {},
   "outputs": [
    {
     "name": "stdout",
     "output_type": "stream",
     "text": [
      "tensor([[ 0.8367,  0.8367],\n",
      "        [ 0.8367,  0.8367],\n",
      "        [ 0.8367,  0.8367],\n",
      "        [-0.9165, -0.9165],\n",
      "        [-0.9165, -0.9165],\n",
      "        [-0.9165, -0.9165]])\n"
     ]
    }
   ],
   "source": [
    "t8 = torch.sin(t7)\n",
    "print(t8)"
   ]
  },
  {
   "cell_type": "code",
   "execution_count": 82,
   "id": "28486b23-2c7f-4e36-a5d6-2e118b80c191",
   "metadata": {},
   "outputs": [
    {
     "data": {
      "text/plain": [
       "torch.Size([6, 2])"
      ]
     },
     "execution_count": 82,
     "metadata": {},
     "output_type": "execute_result"
    }
   ],
   "source": [
    "t7.shape"
   ]
  },
  {
   "cell_type": "code",
   "execution_count": 86,
   "id": "23bd1bc2-b8fc-4b2f-95e3-198fe0febff8",
   "metadata": {},
   "outputs": [
    {
     "name": "stdout",
     "output_type": "stream",
     "text": [
      "tensor([[ 0.8367,  0.8367,  0.8367,  0.8367,  0.8367,  0.8367],\n",
      "        [-0.9165, -0.9165, -0.9165, -0.9165, -0.9165, -0.9165]])\n",
      "torch.Size([2, 6])\n",
      "tensor([[[ 0.8367,  0.8367],\n",
      "         [ 0.8367,  0.8367],\n",
      "         [ 0.8367,  0.8367]],\n",
      "\n",
      "        [[-0.9165, -0.9165],\n",
      "         [-0.9165, -0.9165],\n",
      "         [-0.9165, -0.9165]]])\n",
      "torch.Size([2, 3, 2])\n"
     ]
    }
   ],
   "source": [
    "t9 = t8.reshape(2,6)\n",
    "print(t9)\n",
    "print(t9.shape)\n",
    "t9_1 = t8.reshape(2,3,2)\n",
    "print(t9_1)\n",
    "print(t9_1.shape)"
   ]
  },
  {
   "cell_type": "code",
   "execution_count": null,
   "id": "8ff6588d-e8d8-471d-ac09-f4465fa3be68",
   "metadata": {},
   "outputs": [],
   "source": []
  },
  {
   "cell_type": "code",
   "execution_count": null,
   "id": "b6ad61b9-c5fa-4020-9db6-946466b2cd83",
   "metadata": {},
   "outputs": [],
   "source": []
  }
 ],
 "metadata": {
  "kernelspec": {
   "display_name": "Python 3 (ipykernel)",
   "language": "python",
   "name": "python3"
  },
  "language_info": {
   "codemirror_mode": {
    "name": "ipython",
    "version": 3
   },
   "file_extension": ".py",
   "mimetype": "text/x-python",
   "name": "python",
   "nbconvert_exporter": "python",
   "pygments_lexer": "ipython3",
   "version": "3.12.3"
  }
 },
 "nbformat": 4,
 "nbformat_minor": 5
}
