{
 "cells": [
  {
   "cell_type": "code",
   "execution_count": 27,
   "id": "5eb642e8-6b92-4551-b5c9-46350ff110a0",
   "metadata": {},
   "outputs": [],
   "source": [
    "import torch"
   ]
  },
  {
   "cell_type": "code",
   "execution_count": 28,
   "id": "0376ef6b-3cda-4a67-8ce6-99de2bd886bf",
   "metadata": {},
   "outputs": [],
   "source": [
    "t0 = torch.tensor(4.)\n"
   ]
  },
  {
   "cell_type": "code",
   "execution_count": 29,
   "id": "67a9f9ca-396f-4101-8225-6939bfd7b72f",
   "metadata": {},
   "outputs": [
    {
     "data": {
      "text/plain": [
       "torch.float32"
      ]
     },
     "execution_count": 29,
     "metadata": {},
     "output_type": "execute_result"
    }
   ],
   "source": [
    "t0.dtype"
   ]
  },
  {
   "cell_type": "markdown",
   "id": "140ff00f-bc48-430d-a53e-bf06a22c2cf3",
   "metadata": {},
   "source": [
    "### Tensor is createf with a floating type value\n"
   ]
  },
  {
   "cell_type": "code",
   "execution_count": 30,
   "id": "d6639714-212f-45fa-95b2-1c4cee755e92",
   "metadata": {},
   "outputs": [],
   "source": [
    "t1 = torch.tensor([1,2,3,4])"
   ]
  },
  {
   "cell_type": "markdown",
   "id": "d5a2dc20-0493-4140-96ce-a62e03a8fc53",
   "metadata": {},
   "source": [
    "### 1D Tensor is created"
   ]
  },
  {
   "cell_type": "code",
   "execution_count": 31,
   "id": "52eb38b2-838a-4f81-b217-388ccb3b037a",
   "metadata": {},
   "outputs": [
    {
     "data": {
      "text/plain": [
       "torch.Size([4])"
      ]
     },
     "execution_count": 31,
     "metadata": {},
     "output_type": "execute_result"
    }
   ],
   "source": [
    "t1,t1.shape"
   ]
  },
  {
   "cell_type": "code",
   "execution_count": 32,
   "id": "cae935d1-3dd6-4c17-8ebe-5ffae3575ce8",
   "metadata": {},
   "outputs": [],
   "source": [
    "t1f = torch.tensor([1.,2,3,4])"
   ]
  },
  {
   "cell_type": "code",
   "execution_count": 33,
   "id": "acbaa2a5-892a-48a0-af9d-ea13201e1c3d",
   "metadata": {},
   "outputs": [
    {
     "data": {
      "text/plain": [
       "torch.float32"
      ]
     },
     "execution_count": 33,
     "metadata": {},
     "output_type": "execute_result"
    }
   ],
   "source": [
    "t1f.dtype"
   ]
  },
  {
   "cell_type": "markdown",
   "id": "ebe029fe-7f47-494a-9994-1c6fc58a1a53",
   "metadata": {},
   "source": [
    "### All the members have the same data type."
   ]
  },
  {
   "cell_type": "code",
   "execution_count": 34,
   "id": "f5652dc2-5f2e-48bb-89c2-fc55b6b51375",
   "metadata": {},
   "outputs": [],
   "source": [
    "t2 = torch.tensor([[1.,2],[3,4],[5,6]])"
   ]
  },
  {
   "cell_type": "code",
   "execution_count": 35,
   "id": "29fe725a-2cce-439c-a42e-33e1fac4f375",
   "metadata": {},
   "outputs": [
    {
     "data": {
      "text/plain": [
       "torch.Size([3, 2])"
      ]
     },
     "execution_count": 35,
     "metadata": {},
     "output_type": "execute_result"
    }
   ],
   "source": [
    "t2.shape"
   ]
  },
  {
   "cell_type": "markdown",
   "id": "8af65f55-6904-4ac2-91b2-cae50f4bf212",
   "metadata": {},
   "source": [
    "### A 2d tensor , which is similar to a 2d matrix .\n",
    "\n"
   ]
  },
  {
   "cell_type": "code",
   "execution_count": 39,
   "id": "79da078b-8c7c-4ba3-9f60-c64b302707d1",
   "metadata": {},
   "outputs": [],
   "source": [
    "t3 = torch.tensor([\n",
    "        [[1.,2],[3,4]],\n",
    "        [[5,6],[7,8]] ,\n",
    "        [[9,10],[11,12]]\n",
    "    ])\n",
    "\n",
    "\n",
    "\n"
   ]
  },
  {
   "cell_type": "code",
   "execution_count": 41,
   "id": "dd8eca24-0f7e-4fb8-8ca3-b1365ff6826d",
   "metadata": {},
   "outputs": [
    {
     "data": {
      "text/plain": [
       "(tensor([[[ 1.,  2.],\n",
       "          [ 3.,  4.]],\n",
       " \n",
       "         [[ 5.,  6.],\n",
       "          [ 7.,  8.]],\n",
       " \n",
       "         [[ 9., 10.],\n",
       "          [11., 12.]]]),\n",
       " torch.Size([3, 2, 2]))"
      ]
     },
     "execution_count": 41,
     "metadata": {},
     "output_type": "execute_result"
    }
   ],
   "source": [
    "t3 , t3.shape"
   ]
  },
  {
   "cell_type": "code",
   "execution_count": 44,
   "id": "578b57a1-8930-495b-9306-e5093d3642b5",
   "metadata": {},
   "outputs": [
    {
     "data": {
      "text/plain": [
       "'terror = torch.tensor([\\n        [[1.,2],[3,4]],\\n        [[5,6],[7,8]] ,\\n        [[9,10]]\\n    ])'"
      ]
     },
     "execution_count": 44,
     "metadata": {},
     "output_type": "execute_result"
    }
   ],
   "source": [
    "\"\"\"terror = torch.tensor([\n",
    "        [[1.,2],[3,4]],\n",
    "        [[5,6],[7,8]] ,\n",
    "        [[9,10]]\n",
    "    ])\"\"\""
   ]
  },
  {
   "cell_type": "code",
   "execution_count": null,
   "id": "63a5e6b1-8776-4096-a65c-4a7602c331a3",
   "metadata": {},
   "outputs": [],
   "source": []
  }
 ],
 "metadata": {
  "kernelspec": {
   "display_name": "Python 3 (ipykernel)",
   "language": "python",
   "name": "python3"
  },
  "language_info": {
   "codemirror_mode": {
    "name": "ipython",
    "version": 3
   },
   "file_extension": ".py",
   "mimetype": "text/x-python",
   "name": "python",
   "nbconvert_exporter": "python",
   "pygments_lexer": "ipython3",
   "version": "3.12.3"
  }
 },
 "nbformat": 4,
 "nbformat_minor": 5
}
